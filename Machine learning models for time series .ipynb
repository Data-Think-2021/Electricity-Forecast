{
 "cells": [
  {
   "cell_type": "markdown",
   "metadata": {},
   "source": [
    "## 6. Machine learning models"
   ]
  },
  {
   "cell_type": "code",
   "execution_count": 20,
   "metadata": {},
   "outputs": [],
   "source": [
    "import pandas as pd\n",
    "import numpy as np\n",
    "import pprint\n",
    "import time\n",
    "import pytz\n",
    "from pandas import datetime\n",
    "from datetime import datetime, timedelta\n",
    "\n",
    "import itertools\n",
    "\n",
    "# data visualization\n",
    "%matplotlib inline\n",
    "import matplotlib.pyplot as plt\n",
    "from pylab import rcParams  # Dynamic rc settings\n",
    "import seaborn as sns\n",
    "\n",
    "# statistics\n",
    "from statsmodels.tsa.seasonal import seasonal_decompose\n",
    "from statsmodels.graphics.tsaplots import plot_acf, plot_pacf\n",
    "from statsmodels.graphics.gofplots import qqplot\n",
    "\n",
    "import warnings\n",
    "warnings.filterwarnings('ignore')\n",
    "\n",
    "# Machine learning models\n",
    "from sklearn.linear_model import LinearRegression\n",
    "from sklearn.tree import DecisionTreeRegressor\n",
    "from sklearn.svm import SVR\n",
    "from sklearn.neighbors import KNeighborsRegressor\n",
    "from sklearn.ensemble import RandomForestRegressor\n",
    "from sklearn.ensemble import GradientBoostingRegressor\n",
    "from sklearn.ensemble import BaggingRegressor\n",
    "from sklearn.ensemble import AdaBoostRegressor\n",
    "\n",
    "from sklearn.model_selection import train_test_split, GridSearchCV, cross_val_score# to split the data into two parts\n",
    "from sklearn.preprocessing import OneHotEncoder   # categorical features encoding\n",
    "from sklearn.compose import make_column_transformer\n",
    "from sklearn.preprocessing import StandardScaler # for normalization\n",
    "from sklearn.preprocessing import MinMaxScaler\n",
    "from sklearn.pipeline import Pipeline # pipeline making\n",
    "from sklearn.feature_selection import SelectFromModel\n",
    "from sklearn import metrics # for the check the error and accuracy of the model\n",
    "from sklearn.metrics import mean_squared_error, r2_score, mean_absolute_error"
   ]
  },
  {
   "cell_type": "code",
   "execution_count": 9,
   "metadata": {},
   "outputs": [],
   "source": [
    "# load the data\n",
    "tal_uni = pd.read_csv(\"tal_uni.csv\", parse_dates=True, index_col = 0)"
   ]
  },
  {
   "cell_type": "code",
   "execution_count": 2,
   "metadata": {},
   "outputs": [],
   "source": [
    "tal_final = pd.read_csv(\"tal_final.csv\", parse_dates=True, index_col = 0)"
   ]
  },
  {
   "cell_type": "markdown",
   "metadata": {},
   "source": [
    "A lot of ideas and codes are from <a href=\"https://machinelearningmastery.com/multi-step-time-series-forecasting-with-machine-learning-models-for-household-electricity-consumption/ \" target=\"_blank\">this blog</a> ."
   ]
  },
  {
   "cell_type": "markdown",
   "metadata": {},
   "source": [
    "#### The majority of practical machine learning uses supervised learning. Supervised learning is where you have input variables (X) and an output variable (y) and you use an algorithm to learn the mapping function from the input to the output. Y =f(X) \n"
   ]
  },
  {
   "cell_type": "markdown",
   "metadata": {},
   "source": [
    "### Time series data are a sequence. In order to implement Machine learning agorithms we have to re-frame the time series to supervised problem from transforming the sequence to pairs of input and output. "
   ]
  },
  {
   "cell_type": "markdown",
   "metadata": {},
   "source": [
    "### We will apply linear regression, trees, non-linear ensemble regressors to our time series data."
   ]
  },
  {
   "cell_type": "markdown",
   "metadata": {},
   "source": [
    "Some help functions"
   ]
  },
  {
   "cell_type": "code",
   "execution_count": 22,
   "metadata": {},
   "outputs": [],
   "source": [
    "def oneDArray(x):\n",
    "    return list(itertools.chain(*x))\n",
    "# equal ## flat = [x for sublist in nested for x in sublist]"
   ]
  },
  {
   "cell_type": "code",
   "execution_count": 3,
   "metadata": {},
   "outputs": [],
   "source": [
    "def split_Xy(train, test, n_feature, n_lag):\n",
    "    # split into input and outputs\n",
    "    X_train, y_train = train[:, 0:n_feature*n_lag], train[:, n_feature*n_lag:]\n",
    "    X_test, y_test = test[:, 0:n_feature*n_lag], test[:, n_feature*n_lag:]\n",
    "    return X_train, y_train, X_test, y_test"
   ]
  },
  {
   "cell_type": "code",
   "execution_count": 4,
   "metadata": {},
   "outputs": [],
   "source": [
    "# prepare a list of ml models\n",
    "def get_models(models=dict()):\n",
    "    # linear models\n",
    "    models['Linear Regression'] = LinearRegression()\n",
    "    \n",
    "    # tree\n",
    "    models['Decision Tree Regressor'] = DecisionTreeRegressor()\n",
    "    models['Random Forest Regressor'] = RandomForestRegressor()\n",
    "    # knr\n",
    "    models['KNeighbors Regressor'] = KNeighborsRegressor()\n",
    "    #SVM\n",
    "    models['Support Vector Regression'] = SVR()\n",
    "    # ensemble\n",
    "    models['Gradient Boosting Regressor'] = GradientBoostingRegressor()\n",
    "    #models['Bagging Regressor'] = BaggingRegressor()\n",
    "    models['AdaBoost Regressor'] = AdaBoostRegressor()\n",
    "    print('Defined %d models' % len(models))\n",
    "    return models"
   ]
  },
  {
   "cell_type": "code",
   "execution_count": 5,
   "metadata": {},
   "outputs": [],
   "source": [
    "# create a feature preparation pipeline for a model\n",
    "def make_pipeline(model):\n",
    "    steps = list()\n",
    "    # standardization\n",
    "    #steps.append(('standardize', StandardScaler()))\n",
    "    # normalization\n",
    "    steps.append(('normalize', MinMaxScaler()))\n",
    "    # the model\n",
    "    steps.append(('model', model))\n",
    "    # create pipeline\n",
    "    pipeline = Pipeline(steps=steps)\n",
    "    return pipeline"
   ]
  },
  {
   "cell_type": "code",
   "execution_count": 6,
   "metadata": {},
   "outputs": [],
   "source": [
    "# fit a model and make a forecast\n",
    "def pipeline_fit(model, X_train, y_train):\n",
    "    # make pipeline\n",
    "    pipeline = make_pipeline(model)\n",
    "    # fit the model\n",
    "    pipeline.fit(X_train, y_train)\n",
    "    return pipeline"
   ]
  },
  {
   "cell_type": "code",
   "execution_count": 7,
   "metadata": {},
   "outputs": [],
   "source": [
    "def evaluate_ml(model, X_train, y_train, X_test, y_test, n_seq, m_name):\n",
    "    \n",
    "    pipeline = pipeline_fit(model, X_train, y_train)\n",
    "    \n",
    "    y_pred_test = pipeline.predict(X_test)\n",
    "    \n",
    "    y_pred_train = pipeline.predict(X_train)\n",
    "    \n",
    "   \n",
    "    rmse_train= np.sqrt(mean_squared_error(y_train, y_pred_train))\n",
    "    rmse_test = np.sqrt(mean_squared_error(y_test, y_pred_test))\n",
    "    #mae = mean_absolute_error(y_test, predicted)\n",
    "    print(m_name)\n",
    "    print('TRAIN : t+1 RMSE: %.4f ,TEST : t+1 RMSE: %.4f' % (rmse_train,rmse_test))\n",
    "    print('---------------------')\n",
    "\n",
    "    return rmse_train,rmse_test"
   ]
  },
  {
   "cell_type": "code",
   "execution_count": 18,
   "metadata": {},
   "outputs": [],
   "source": [
    "def residuals_analysis(residuals):\n",
    "    # figure for subplots\n",
    "    fig, axs = plt.subplots(2, 2,figsize=(20,15))\n",
    "    fig.text(0.5,0.93,'Residual analysis',horizontalalignment='center',\n",
    "       verticalalignment='top',fontsize=\"xx-large\")\n",
    "    # scatter plot of residual errors\n",
    "    axs[0, 0].scatter(residuals.index, residuals)\n",
    "    axs[0, 0].set_title('Scatter plot')\n",
    "    \n",
    "    # histogram of residual errors\n",
    "    residuals.hist(ax = axs[0,1])\n",
    "    axs[0, 1].set_title('Histogram plot')\n",
    "    \n",
    "    # density plot of residual errors\n",
    "    residuals.plot(ax = axs[1, 0],kind='kde')\n",
    "    axs[1, 0].set_title('Density plot')\n",
    "    \n",
    "    # qq-plot to check the normality\n",
    "    axs[1, 1].set_title('Q-Q plot')\n",
    "    qqplot(np.array(oneDArray(residuals.values)), line='r',ax = axs[1, 1]) \n",
    "    \n",
    "    plt.show()"
   ]
  },
  {
   "cell_type": "markdown",
   "metadata": {},
   "source": [
    "## 6.1 Part one : Univariate TS one step forecast of Linear Regression"
   ]
  },
  {
   "cell_type": "code",
   "execution_count": 10,
   "metadata": {},
   "outputs": [],
   "source": [
    "# create lagged dataset\n",
    "lag1 = tal_uni.shift(1)\n",
    "dataframe = pd.concat([lag1, tal_uni], axis=1) \n",
    "dataframe.columns = ['t-1', 't']\n",
    "# drop the records of NaN\n",
    "dataframe.dropna(inplace=True)"
   ]
  },
  {
   "cell_type": "code",
   "execution_count": 11,
   "metadata": {},
   "outputs": [],
   "source": [
    "# split into train and test sets\n",
    "X = dataframe.values\n",
    "n_test = int(365*24*1)\n",
    "train_ml1, test_ml1 = X[:-n_test], X[-n_test:] \n",
    "X_train_ml1, y_train_ml1 = train_ml1[:,:1], train_ml1[:,1:] \n",
    "X_test_ml1, y_test_ml1 = test_ml1[:,:1], test_ml1[:,1:]"
   ]
  },
  {
   "cell_type": "code",
   "execution_count": 12,
   "metadata": {},
   "outputs": [
    {
     "data": {
      "text/plain": [
       "array([[225., 222.],\n",
       "       [222., 213.],\n",
       "       [213., 206.],\n",
       "       ...,\n",
       "       [328., 298.],\n",
       "       [298., 274.],\n",
       "       [274., 260.]])"
      ]
     },
     "execution_count": 12,
     "metadata": {},
     "output_type": "execute_result"
    }
   ],
   "source": [
    "train_ml1"
   ]
  },
  {
   "cell_type": "code",
   "execution_count": 13,
   "metadata": {},
   "outputs": [
    {
     "data": {
      "text/plain": [
       "array([[260.],\n",
       "       [251.],\n",
       "       [249.],\n",
       "       ...,\n",
       "       [314.],\n",
       "       [288.],\n",
       "       [269.]])"
      ]
     },
     "execution_count": 13,
     "metadata": {},
     "output_type": "execute_result"
    }
   ],
   "source": [
    "X_test_ml1"
   ]
  },
  {
   "cell_type": "code",
   "execution_count": 27,
   "metadata": {},
   "outputs": [
    {
     "name": "stdout",
     "output_type": "stream",
     "text": [
      "Linear Regression\n",
      "TRAIN : t+1 RMSE: 19.9051 ,TEST : t+1 RMSE: 19.8403\n",
      "---------------------\n"
     ]
    }
   ],
   "source": [
    "### Linear Regression ###\n",
    "# Create the model pipeline\n",
    "steps = [('scaler', MinMaxScaler(feature_range=(0, 1))),\n",
    "         ('linearregression', LinearRegression())]\n",
    "\n",
    "model_lr = Pipeline(steps)\n",
    "\n",
    "# Fit to the training set\n",
    "model_lr.fit(X_train_ml1, y_train_ml1)\n",
    "\n",
    "# Make prediction\n",
    "yhat_test_lr1 = model_lr.predict(X_test_ml1)\n",
    "\n",
    "# Evaluate model\n",
    "rmse_train_lr,rmse_lr = evaluate_ml(model_lr, X_train_ml1, y_train_ml1, X_test_ml1, y_test_ml1, 1, 'Linear Regression')"
   ]
  },
  {
   "cell_type": "code",
   "execution_count": 28,
   "metadata": {},
   "outputs": [
    {
     "data": {
      "text/plain": [
       "19.840308071031853"
      ]
     },
     "execution_count": 28,
     "metadata": {},
     "output_type": "execute_result"
    }
   ],
   "source": [
    "rmse_lr"
   ]
  },
  {
   "cell_type": "markdown",
   "metadata": {},
   "source": [
    "### Multiple train-test splits\n",
    "#### We can repeat the process of splitting the time series into train and test sets multiple times. This will require multiple models to be trained and evaluated, but this additional computational expense will provide a more robust estimate of the expected performance of the chosen method and configuration on unseen data. We could do this manually by repeating the process described in the previous section with different split points."
   ]
  },
  {
   "cell_type": "code",
   "execution_count": 183,
   "metadata": {},
   "outputs": [
    {
     "name": "stdout",
     "output_type": "stream",
     "text": [
      "Observations: 18818\n",
      "Training Observations: 9410\n",
      "Testing Observations: 9408\n",
      "Observations: 28226\n",
      "Training Observations: 18818\n",
      "Testing Observations: 9408\n",
      "Observations: 37634\n",
      "Training Observations: 28226\n",
      "Testing Observations: 9408\n"
     ]
    },
    {
     "data": {
      "text/plain": [
       "<Figure size 432x288 with 0 Axes>"
      ]
     },
     "metadata": {},
     "output_type": "display_data"
    }
   ],
   "source": [
    "''' for my own reference\n",
    "from sklearn.model_selection import TimeSeriesSplit\n",
    "X = dataframe.values\n",
    "splits = TimeSeriesSplit(n_splits=3)\n",
    "plt.figure(1)\n",
    "index = 1\n",
    "for train_index, test_index in splits.split(X):\n",
    "    train = X[train_index]\n",
    "    test = X[test_index]\n",
    "    print('Observations: %d' % (len(train) + len(test)))\n",
    "    print('Training Observations: %d' % (len(train))) \n",
    "    print('Testing Observations: %d' % (len(test))) \n",
    "    #plt.subplot(310 + index)\n",
    "    #plt.plot(train)\n",
    "    #plt.plot([None for i in train] + [x for x in test]) \n",
    "    index += 1\n",
    "plt.show()\n",
    "'''"
   ]
  },
  {
   "cell_type": "code",
   "execution_count": 193,
   "metadata": {},
   "outputs": [],
   "source": [
    "# Manually split into train and test sets\n",
    "X = dataframe.values\n",
    "n_test1 = int(365*24*1)\n",
    "n_test2 = int(365*24*2)\n",
    "n_test3 = int(365*24*3)\n",
    "\n",
    "# to make sure that test size stays consistent 1 year. \n",
    "train_1, test_1 = X[:-n_test1], X[-n_test1:] \n",
    "train_2, test_2 = X[:-n_test2], X[-n_test2:-n_test1] \n",
    "train_3, test_3 = X[:-n_test3], X[-n_test3:-n_test2] \n",
    "\n",
    "X_train_1, y_train_1, X_test_1, y_test_1 = train_1[:,:1], train_1[:,1:], test_1[:,:1], test_1[:,1:]\n",
    "X_train_2, y_train_2, X_test_2, y_test_2 = train_2[:,:1], train_2[:,1:], test_2[:,:1], test_2[:,1:]\n",
    "X_train_3, y_train_3, X_test_3, y_test_3 = train_3[:,:1], train_3[:,1:], test_3[:,:1], test_3[:,1:]"
   ]
  },
  {
   "cell_type": "code",
   "execution_count": 198,
   "metadata": {},
   "outputs": [
    {
     "name": "stdout",
     "output_type": "stream",
     "text": [
      "Split 1. Observations: 37634, Training Observations: 28874,Testing Observations: 8760\n",
      "Split 2. Observations: 28874, Training Observations: 20114,Testing Observations: 8760\n",
      "Split 3. Observations: 20114, Training Observations: 11354,Testing Observations: 8760\n"
     ]
    }
   ],
   "source": [
    "print('Split 1. Observations: %d, Training Observations: %d,Testing Observations: %d' % (len(train_1) + len(test_1),len(train_1),len(test_1)))\n",
    "print('Split 2. Observations: %d, Training Observations: %d,Testing Observations: %d' % (len(train_2) + len(test_2),len(train_2),len(test_2)))\n",
    "print('Split 3. Observations: %d, Training Observations: %d,Testing Observations: %d' % (len(train_3) + len(test_3),len(train_3),len(test_3)))"
   ]
  },
  {
   "cell_type": "markdown",
   "metadata": {},
   "source": [
    "### The test size stays consistent. This means that performance statistics calculated on the predictions of each trained model will be consistent and can be combined and compared. It provides an apples-to-apples comparison."
   ]
  },
  {
   "cell_type": "code",
   "execution_count": 190,
   "metadata": {},
   "outputs": [
    {
     "name": "stdout",
     "output_type": "stream",
     "text": [
      "Linear Regression\n",
      "TRAIN : t+1 RMSE: 19.9051 ,TEST : t+1 RMSE: 19.8403\n",
      "---------------------\n",
      "Linear Regression\n",
      "TRAIN : t+1 RMSE: 19.6986 ,TEST : t+1 RMSE: 20.3713\n",
      "---------------------\n",
      "Linear Regression\n",
      "TRAIN : t+1 RMSE: 20.1200 ,TEST : t+1 RMSE: 19.1397\n",
      "---------------------\n",
      "mean of rmse_train : 19.907900 , mean of rmse_test: 19.783767\n"
     ]
    }
   ],
   "source": [
    "### Linear Regression ###\n",
    "# Create the model pipeline\n",
    "steps = [('scaler', MinMaxScaler(feature_range=(0, 1))),\n",
    "         ('linearregression', LinearRegression())]\n",
    "\n",
    "model_lr = Pipeline(steps)\n",
    "\n",
    "# Fit to the training set\n",
    "model_lr1 = model_lr.fit(X_train_1, y_train_1)\n",
    "model_lr2 = model_lr.fit(X_train_2, y_train_2)\n",
    "model_lr3 = model_lr.fit(X_train_3, y_train_3)\n",
    "\n",
    "# Make prediction\n",
    "yhat_test_lr1 = model_lr1.predict(X_test_1)\n",
    "yhat_test_lr2 = model_lr2.predict(X_test_2)\n",
    "yhat_test_lr3 = model_lr3.predict(X_test_3)\n",
    "\n",
    "# Evaluate model\n",
    "rmse_train1,rmse_test1 = evaluate_ml(model_lr1, X_train_1, y_train_1, X_test_1, y_test_1, 1, 'Linear Regression')\n",
    "rmse_train2,rmse_test2 = evaluate_ml(model_lr2, X_train_2, y_train_2, X_test_2, y_test_2, 1, 'Linear Regression')\n",
    "rmse_train3,rmse_test3 = evaluate_ml(model_lr3, X_train_3, y_train_3, X_test_3, y_test_3, 1, 'Linear Regression')\n",
    "\n",
    "print('mean of rmse_train : %f , mean of rmse_test: %f'%((rmse_train1+rmse_train2+rmse_train3)/3, (rmse_test1+rmse_test2+rmse_test3)/3))"
   ]
  },
  {
   "cell_type": "markdown",
   "metadata": {},
   "source": [
    "#### Residual error analysis"
   ]
  },
  {
   "cell_type": "code",
   "execution_count": 15,
   "metadata": {},
   "outputs": [],
   "source": [
    "# calculate residuals\n",
    "residuals_lr1 = [y_test_ml1[:,:1][i]-yhat_test_lr1[i] for i in range(len(yhat_test_lr1))] \n",
    "residuals_lr1 = pd.DataFrame(residuals_lr1)"
   ]
  },
  {
   "cell_type": "code",
   "execution_count": 16,
   "metadata": {},
   "outputs": [
    {
     "name": "stdout",
     "output_type": "stream",
     "text": [
      "                 0\n",
      "count  8760.000000\n",
      "mean      0.129365\n",
      "std      19.841019\n",
      "min    -124.212685\n",
      "25%     -14.464943\n",
      "50%      -1.721010\n",
      "75%      13.234480\n",
      "max     128.177927\n"
     ]
    }
   ],
   "source": [
    "# summary statistics\n",
    "print(residuals_lr1.describe())"
   ]
  },
  {
   "cell_type": "code",
   "execution_count": 23,
   "metadata": {},
   "outputs": [
    {
     "data": {
      "image/png": "[encoded data removed]",
      "text/plain": [
       "<Figure size 1440x1080 with 4 Axes>"
      ]
     },
     "metadata": {
      "needs_background": "light"
     },
     "output_type": "display_data"
    }
   ],
   "source": [
    "#fig, axs = plt.subplots(2, 2)\n",
    "residuals_analysis(residuals_lr1)"
   ]
  },
  {
   "cell_type": "markdown",
   "metadata": {},
   "source": [
    "First, we assume that the model is a reasonable approximation to reality; that is, the relationship between the forecast variable and the predictor variables satisfies this linear equation.\n",
    "\n",
    "Second, we make the following assumptions about the errors  \n",
    "\n",
    "they have mean zero; otherwise the forecasts will be systematically biased.\n",
    "they are not autocorrelated; otherwise the forecasts will be inefficient, as there is more information in the data that can be exploited.\n",
    "they are unrelated to the predictor variables; otherwise there would be more information that should be included in the systematic part of the model.\n",
    "It is also useful to have the errors being normally distributed with a constant variance in order to easily produce prediction intervals.\n",
    "\n",
    "Another important assumption in the linear regression model is that each predictor  \n",
    "x is not a random variable. If we were performing a controlled experiment in a laboratory, we could control the values of each x(so they would not be random) and observe the resulting values of  \n",
    "y. With observational data (including most data in business and economics), it is not possible to control the value of  x, we simply observe it. Hence we make this an assumption."
   ]
  },
  {
   "cell_type": "code",
   "execution_count": 24,
   "metadata": {},
   "outputs": [
    {
     "name": "stdout",
     "output_type": "stream",
     "text": [
      "Defined 7 models\n",
      "Linear Regression\n",
      "TRAIN : t+1 RMSE: 19.9051 ,TEST : t+1 RMSE: 19.8403\n",
      "---------------------\n",
      "Decision Tree Regressor\n",
      "TRAIN : t+1 RMSE: 19.6340 ,TEST : t+1 RMSE: 19.9763\n",
      "---------------------\n",
      "Random Forest Regressor\n",
      "TRAIN : t+1 RMSE: 19.6538 ,TEST : t+1 RMSE: 19.9933\n",
      "---------------------\n",
      "KNeighbors Regressor\n",
      "TRAIN : t+1 RMSE: 21.4079 ,TEST : t+1 RMSE: 21.6292\n",
      "---------------------\n",
      "Support Vector Regression\n",
      "TRAIN : t+1 RMSE: 20.0597 ,TEST : t+1 RMSE: 20.3542\n",
      "---------------------\n",
      "Gradient Boosting Regressor\n",
      "TRAIN : t+1 RMSE: 19.6924 ,TEST : t+1 RMSE: 19.9003\n",
      "---------------------\n",
      "AdaBoost Regressor\n",
      "TRAIN : t+1 RMSE: 25.0859 ,TEST : t+1 RMSE: 26.4596\n",
      "---------------------\n"
     ]
    }
   ],
   "source": [
    "# prepare the models to evaluate\n",
    "models = get_models()\n",
    "for name, model in models.items():\n",
    "    scores = evaluate_ml(model, X_train_ml1, y_train_ml1, X_test_ml1, y_test_ml1, 1, name) "
   ]
  },
  {
   "cell_type": "markdown",
   "metadata": {},
   "source": [
    "<a id='mt1'></a> \n",
    "###  6.2 PART TWO Multivariate onestep forecasts"
   ]
  },
  {
   "cell_type": "markdown",
   "metadata": {},
   "source": [
    "### Firstly we will create lags features to run the models. Secondly, if necessary we will import some external data and add some features to see if we can get better results. "
   ]
  },
  {
   "cell_type": "markdown",
   "metadata": {},
   "source": [
    "### Given a time series data until the current time (t), this will be the input to predict the next value at time (t+1) for one-step. "
   ]
  },
  {
   "cell_type": "markdown",
   "metadata": {},
   "source": [
    "###  First prepare train/ test and inputs/ outputs for the models."
   ]
  },
  {
   "cell_type": "code",
   "execution_count": 25,
   "metadata": {},
   "outputs": [
    {
     "data": {
      "text/plain": [
       "37635"
      ]
     },
     "execution_count": 25,
     "metadata": {},
     "output_type": "execute_result"
    }
   ],
   "source": [
    "#We use the tal_final data with external data (holiday, date, weather)\n",
    "len(tal_final)"
   ]
  },
  {
   "cell_type": "code",
   "execution_count": 26,
   "metadata": {},
   "outputs": [
    {
     "data": {
      "text/html": [
       "<div>\n",
       "<style scoped>\n",
       "    .dataframe tbody tr th:only-of-type {\n",
       "        vertical-align: middle;\n",
       "    }\n",
       "\n",
       "    .dataframe tbody tr th {\n",
       "        vertical-align: top;\n",
       "    }\n",
       "\n",
       "    .dataframe thead th {\n",
       "        text-align: right;\n",
       "    }\n",
       "</style>\n",
       "<table border=\"1\" class=\"dataframe\">\n",
       "  <thead>\n",
       "    <tr style=\"text-align: right;\">\n",
       "      <th></th>\n",
       "      <th>demand</th>\n",
       "      <th>temperature</th>\n",
       "      <th>holiday_1</th>\n",
       "      <th>quarter_2</th>\n",
       "      <th>quarter_3</th>\n",
       "      <th>quarter_4</th>\n",
       "      <th>day_1</th>\n",
       "      <th>day_2</th>\n",
       "      <th>day_3</th>\n",
       "      <th>week_1</th>\n",
       "    </tr>\n",
       "  </thead>\n",
       "  <tbody>\n",
       "    <tr>\n",
       "      <th>2015-07-01 01:00:00</th>\n",
       "      <td>225.0</td>\n",
       "      <td>20.30</td>\n",
       "      <td>0</td>\n",
       "      <td>0</td>\n",
       "      <td>1</td>\n",
       "      <td>0</td>\n",
       "      <td>0</td>\n",
       "      <td>0</td>\n",
       "      <td>0</td>\n",
       "      <td>0</td>\n",
       "    </tr>\n",
       "    <tr>\n",
       "      <th>2015-07-01 02:00:00</th>\n",
       "      <td>222.0</td>\n",
       "      <td>19.84</td>\n",
       "      <td>0</td>\n",
       "      <td>0</td>\n",
       "      <td>1</td>\n",
       "      <td>0</td>\n",
       "      <td>0</td>\n",
       "      <td>0</td>\n",
       "      <td>0</td>\n",
       "      <td>0</td>\n",
       "    </tr>\n",
       "    <tr>\n",
       "      <th>2015-07-01 03:00:00</th>\n",
       "      <td>213.0</td>\n",
       "      <td>19.80</td>\n",
       "      <td>0</td>\n",
       "      <td>0</td>\n",
       "      <td>1</td>\n",
       "      <td>0</td>\n",
       "      <td>0</td>\n",
       "      <td>0</td>\n",
       "      <td>0</td>\n",
       "      <td>0</td>\n",
       "    </tr>\n",
       "    <tr>\n",
       "      <th>2015-07-01 04:00:00</th>\n",
       "      <td>206.0</td>\n",
       "      <td>19.85</td>\n",
       "      <td>0</td>\n",
       "      <td>0</td>\n",
       "      <td>1</td>\n",
       "      <td>0</td>\n",
       "      <td>0</td>\n",
       "      <td>0</td>\n",
       "      <td>0</td>\n",
       "      <td>0</td>\n",
       "    </tr>\n",
       "    <tr>\n",
       "      <th>2015-07-01 05:00:00</th>\n",
       "      <td>207.0</td>\n",
       "      <td>19.95</td>\n",
       "      <td>0</td>\n",
       "      <td>0</td>\n",
       "      <td>1</td>\n",
       "      <td>0</td>\n",
       "      <td>0</td>\n",
       "      <td>0</td>\n",
       "      <td>0</td>\n",
       "      <td>0</td>\n",
       "    </tr>\n",
       "  </tbody>\n",
       "</table>\n",
       "</div>"
      ],
      "text/plain": [
       "                     demand  temperature  holiday_1  quarter_2  quarter_3  \\\n",
       "2015-07-01 01:00:00   225.0        20.30          0          0          1   \n",
       "2015-07-01 02:00:00   222.0        19.84          0          0          1   \n",
       "2015-07-01 03:00:00   213.0        19.80          0          0          1   \n",
       "2015-07-01 04:00:00   206.0        19.85          0          0          1   \n",
       "2015-07-01 05:00:00   207.0        19.95          0          0          1   \n",
       "\n",
       "                     quarter_4  day_1  day_2  day_3  week_1  \n",
       "2015-07-01 01:00:00          0      0      0      0       0  \n",
       "2015-07-01 02:00:00          0      0      0      0       0  \n",
       "2015-07-01 03:00:00          0      0      0      0       0  \n",
       "2015-07-01 04:00:00          0      0      0      0       0  \n",
       "2015-07-01 05:00:00          0      0      0      0       0  "
      ]
     },
     "execution_count": 26,
     "metadata": {},
     "output_type": "execute_result"
    }
   ],
   "source": [
    "tal_final.head()"
   ]
  },
  {
   "cell_type": "code",
   "execution_count": 29,
   "metadata": {},
   "outputs": [],
   "source": [
    "lag_m1 = tal_final.shift(1)"
   ]
  },
  {
   "cell_type": "code",
   "execution_count": 30,
   "metadata": {},
   "outputs": [],
   "source": [
    "# set the columns name plus (t), representing the current value\n",
    "lag_m1.rename(lambda x: x + '(t-1)', axis='columns',inplace = True)"
   ]
  },
  {
   "cell_type": "code",
   "execution_count": 31,
   "metadata": {},
   "outputs": [
    {
     "data": {
      "text/html": [
       "<div>\n",
       "<style scoped>\n",
       "    .dataframe tbody tr th:only-of-type {\n",
       "        vertical-align: middle;\n",
       "    }\n",
       "\n",
       "    .dataframe tbody tr th {\n",
       "        vertical-align: top;\n",
       "    }\n",
       "\n",
       "    .dataframe thead th {\n",
       "        text-align: right;\n",
       "    }\n",
       "</style>\n",
       "<table border=\"1\" class=\"dataframe\">\n",
       "  <thead>\n",
       "    <tr style=\"text-align: right;\">\n",
       "      <th></th>\n",
       "      <th>demand(t-1)</th>\n",
       "      <th>temperature(t-1)</th>\n",
       "      <th>holiday_1(t-1)</th>\n",
       "      <th>quarter_2(t-1)</th>\n",
       "      <th>quarter_3(t-1)</th>\n",
       "      <th>quarter_4(t-1)</th>\n",
       "      <th>day_1(t-1)</th>\n",
       "      <th>day_2(t-1)</th>\n",
       "      <th>day_3(t-1)</th>\n",
       "      <th>week_1(t-1)</th>\n",
       "    </tr>\n",
       "  </thead>\n",
       "  <tbody>\n",
       "    <tr>\n",
       "      <th>2015-07-01 01:00:00</th>\n",
       "      <td>NaN</td>\n",
       "      <td>NaN</td>\n",
       "      <td>NaN</td>\n",
       "      <td>NaN</td>\n",
       "      <td>NaN</td>\n",
       "      <td>NaN</td>\n",
       "      <td>NaN</td>\n",
       "      <td>NaN</td>\n",
       "      <td>NaN</td>\n",
       "      <td>NaN</td>\n",
       "    </tr>\n",
       "    <tr>\n",
       "      <th>2015-07-01 02:00:00</th>\n",
       "      <td>225.0</td>\n",
       "      <td>20.30</td>\n",
       "      <td>0.0</td>\n",
       "      <td>0.0</td>\n",
       "      <td>1.0</td>\n",
       "      <td>0.0</td>\n",
       "      <td>0.0</td>\n",
       "      <td>0.0</td>\n",
       "      <td>0.0</td>\n",
       "      <td>0.0</td>\n",
       "    </tr>\n",
       "    <tr>\n",
       "      <th>2015-07-01 03:00:00</th>\n",
       "      <td>222.0</td>\n",
       "      <td>19.84</td>\n",
       "      <td>0.0</td>\n",
       "      <td>0.0</td>\n",
       "      <td>1.0</td>\n",
       "      <td>0.0</td>\n",
       "      <td>0.0</td>\n",
       "      <td>0.0</td>\n",
       "      <td>0.0</td>\n",
       "      <td>0.0</td>\n",
       "    </tr>\n",
       "    <tr>\n",
       "      <th>2015-07-01 04:00:00</th>\n",
       "      <td>213.0</td>\n",
       "      <td>19.80</td>\n",
       "      <td>0.0</td>\n",
       "      <td>0.0</td>\n",
       "      <td>1.0</td>\n",
       "      <td>0.0</td>\n",
       "      <td>0.0</td>\n",
       "      <td>0.0</td>\n",
       "      <td>0.0</td>\n",
       "      <td>0.0</td>\n",
       "    </tr>\n",
       "    <tr>\n",
       "      <th>2015-07-01 05:00:00</th>\n",
       "      <td>206.0</td>\n",
       "      <td>19.85</td>\n",
       "      <td>0.0</td>\n",
       "      <td>0.0</td>\n",
       "      <td>1.0</td>\n",
       "      <td>0.0</td>\n",
       "      <td>0.0</td>\n",
       "      <td>0.0</td>\n",
       "      <td>0.0</td>\n",
       "      <td>0.0</td>\n",
       "    </tr>\n",
       "  </tbody>\n",
       "</table>\n",
       "</div>"
      ],
      "text/plain": [
       "                     demand(t-1)  temperature(t-1)  holiday_1(t-1)  \\\n",
       "2015-07-01 01:00:00          NaN               NaN             NaN   \n",
       "2015-07-01 02:00:00        225.0             20.30             0.0   \n",
       "2015-07-01 03:00:00        222.0             19.84             0.0   \n",
       "2015-07-01 04:00:00        213.0             19.80             0.0   \n",
       "2015-07-01 05:00:00        206.0             19.85             0.0   \n",
       "\n",
       "                     quarter_2(t-1)  quarter_3(t-1)  quarter_4(t-1)  \\\n",
       "2015-07-01 01:00:00             NaN             NaN             NaN   \n",
       "2015-07-01 02:00:00             0.0             1.0             0.0   \n",
       "2015-07-01 03:00:00             0.0             1.0             0.0   \n",
       "2015-07-01 04:00:00             0.0             1.0             0.0   \n",
       "2015-07-01 05:00:00             0.0             1.0             0.0   \n",
       "\n",
       "                     day_1(t-1)  day_2(t-1)  day_3(t-1)  week_1(t-1)  \n",
       "2015-07-01 01:00:00         NaN         NaN         NaN          NaN  \n",
       "2015-07-01 02:00:00         0.0         0.0         0.0          0.0  \n",
       "2015-07-01 03:00:00         0.0         0.0         0.0          0.0  \n",
       "2015-07-01 04:00:00         0.0         0.0         0.0          0.0  \n",
       "2015-07-01 05:00:00         0.0         0.0         0.0          0.0  "
      ]
     },
     "execution_count": 31,
     "metadata": {},
     "output_type": "execute_result"
    }
   ],
   "source": [
    "lag_m1.head()"
   ]
  },
  {
   "cell_type": "code",
   "execution_count": 32,
   "metadata": {},
   "outputs": [],
   "source": [
    "# input lag features\n",
    "lag1 = tal_uni.shift(1)\n",
    "window = lag1.rolling(window=3)\n",
    "means = window.mean()\n",
    "# create a new dataframe for supervised learning \n",
    "df1 = pd.concat([means,lag1, tal_uni], axis=1) \n",
    "df1.columns = ['demand_mean(t-3,t-2,t-1)','demand(t-1)','demand(t)']\n",
    "df1.dropna(inplace = True)"
   ]
  },
  {
   "cell_type": "code",
   "execution_count": 33,
   "metadata": {},
   "outputs": [
    {
     "data": {
      "text/html": [
       "<div>\n",
       "<style scoped>\n",
       "    .dataframe tbody tr th:only-of-type {\n",
       "        vertical-align: middle;\n",
       "    }\n",
       "\n",
       "    .dataframe tbody tr th {\n",
       "        vertical-align: top;\n",
       "    }\n",
       "\n",
       "    .dataframe thead th {\n",
       "        text-align: right;\n",
       "    }\n",
       "</style>\n",
       "<table border=\"1\" class=\"dataframe\">\n",
       "  <thead>\n",
       "    <tr style=\"text-align: right;\">\n",
       "      <th></th>\n",
       "      <th>demand_mean(t-3,t-2,t-1)</th>\n",
       "      <th>demand(t-1)</th>\n",
       "      <th>demand(t)</th>\n",
       "    </tr>\n",
       "  </thead>\n",
       "  <tbody>\n",
       "    <tr>\n",
       "      <th>2015-07-01 04:00:00</th>\n",
       "      <td>220.000000</td>\n",
       "      <td>213.0</td>\n",
       "      <td>206.0</td>\n",
       "    </tr>\n",
       "    <tr>\n",
       "      <th>2015-07-01 05:00:00</th>\n",
       "      <td>213.666667</td>\n",
       "      <td>206.0</td>\n",
       "      <td>207.0</td>\n",
       "    </tr>\n",
       "    <tr>\n",
       "      <th>2015-07-01 06:00:00</th>\n",
       "      <td>208.666667</td>\n",
       "      <td>207.0</td>\n",
       "      <td>219.0</td>\n",
       "    </tr>\n",
       "    <tr>\n",
       "      <th>2015-07-01 07:00:00</th>\n",
       "      <td>210.666667</td>\n",
       "      <td>219.0</td>\n",
       "      <td>245.0</td>\n",
       "    </tr>\n",
       "    <tr>\n",
       "      <th>2015-07-01 08:00:00</th>\n",
       "      <td>223.666667</td>\n",
       "      <td>245.0</td>\n",
       "      <td>266.0</td>\n",
       "    </tr>\n",
       "  </tbody>\n",
       "</table>\n",
       "</div>"
      ],
      "text/plain": [
       "                     demand_mean(t-3,t-2,t-1)  demand(t-1)  demand(t)\n",
       "2015-07-01 04:00:00                220.000000        213.0      206.0\n",
       "2015-07-01 05:00:00                213.666667        206.0      207.0\n",
       "2015-07-01 06:00:00                208.666667        207.0      219.0\n",
       "2015-07-01 07:00:00                210.666667        219.0      245.0\n",
       "2015-07-01 08:00:00                223.666667        245.0      266.0"
      ]
     },
     "execution_count": 33,
     "metadata": {},
     "output_type": "execute_result"
    }
   ],
   "source": [
    "df1.head()"
   ]
  },
  {
   "cell_type": "code",
   "execution_count": 34,
   "metadata": {},
   "outputs": [
    {
     "data": {
      "text/plain": [
       "(37635, 10)"
      ]
     },
     "execution_count": 34,
     "metadata": {},
     "output_type": "execute_result"
    }
   ],
   "source": [
    "lag_m1.shape"
   ]
  },
  {
   "cell_type": "code",
   "execution_count": 35,
   "metadata": {},
   "outputs": [
    {
     "data": {
      "text/plain": [
       "(37632, 3)"
      ]
     },
     "execution_count": 35,
     "metadata": {},
     "output_type": "execute_result"
    }
   ],
   "source": [
    "df1.shape"
   ]
  },
  {
   "cell_type": "code",
   "execution_count": 36,
   "metadata": {},
   "outputs": [],
   "source": [
    "# to get some external features by merging the two files\n",
    "tal_multi = pd.merge(left = df1, right = lag_m1, left_index = True, right_index = True,how=\"left\")"
   ]
  },
  {
   "cell_type": "code",
   "execution_count": 37,
   "metadata": {},
   "outputs": [
    {
     "data": {
      "text/plain": [
       "(37632, 13)"
      ]
     },
     "execution_count": 37,
     "metadata": {},
     "output_type": "execute_result"
    }
   ],
   "source": [
    "# check the dimension after merging. It should be equal to the df1.shape. It looks fine. \n",
    "tal_multi.shape"
   ]
  },
  {
   "cell_type": "code",
   "execution_count": 38,
   "metadata": {},
   "outputs": [
    {
     "data": {
      "text/html": [
       "<div>\n",
       "<style scoped>\n",
       "    .dataframe tbody tr th:only-of-type {\n",
       "        vertical-align: middle;\n",
       "    }\n",
       "\n",
       "    .dataframe tbody tr th {\n",
       "        vertical-align: top;\n",
       "    }\n",
       "\n",
       "    .dataframe thead th {\n",
       "        text-align: right;\n",
       "    }\n",
       "</style>\n",
       "<table border=\"1\" class=\"dataframe\">\n",
       "  <thead>\n",
       "    <tr style=\"text-align: right;\">\n",
       "      <th></th>\n",
       "      <th>demand_mean(t-3,t-2,t-1)</th>\n",
       "      <th>demand(t-1)_x</th>\n",
       "      <th>demand(t)</th>\n",
       "      <th>demand(t-1)_y</th>\n",
       "      <th>temperature(t-1)</th>\n",
       "      <th>holiday_1(t-1)</th>\n",
       "      <th>quarter_2(t-1)</th>\n",
       "      <th>quarter_3(t-1)</th>\n",
       "      <th>quarter_4(t-1)</th>\n",
       "      <th>day_1(t-1)</th>\n",
       "      <th>day_2(t-1)</th>\n",
       "      <th>day_3(t-1)</th>\n",
       "      <th>week_1(t-1)</th>\n",
       "    </tr>\n",
       "  </thead>\n",
       "  <tbody>\n",
       "    <tr>\n",
       "      <th>2015-07-01 04:00:00</th>\n",
       "      <td>220.000000</td>\n",
       "      <td>213.0</td>\n",
       "      <td>206.0</td>\n",
       "      <td>213.0</td>\n",
       "      <td>19.80</td>\n",
       "      <td>0.0</td>\n",
       "      <td>0.0</td>\n",
       "      <td>1.0</td>\n",
       "      <td>0.0</td>\n",
       "      <td>0.0</td>\n",
       "      <td>0.0</td>\n",
       "      <td>0.0</td>\n",
       "      <td>0.0</td>\n",
       "    </tr>\n",
       "    <tr>\n",
       "      <th>2015-07-01 05:00:00</th>\n",
       "      <td>213.666667</td>\n",
       "      <td>206.0</td>\n",
       "      <td>207.0</td>\n",
       "      <td>206.0</td>\n",
       "      <td>19.85</td>\n",
       "      <td>0.0</td>\n",
       "      <td>0.0</td>\n",
       "      <td>1.0</td>\n",
       "      <td>0.0</td>\n",
       "      <td>0.0</td>\n",
       "      <td>0.0</td>\n",
       "      <td>0.0</td>\n",
       "      <td>0.0</td>\n",
       "    </tr>\n",
       "    <tr>\n",
       "      <th>2015-07-01 06:00:00</th>\n",
       "      <td>208.666667</td>\n",
       "      <td>207.0</td>\n",
       "      <td>219.0</td>\n",
       "      <td>207.0</td>\n",
       "      <td>19.95</td>\n",
       "      <td>0.0</td>\n",
       "      <td>0.0</td>\n",
       "      <td>1.0</td>\n",
       "      <td>0.0</td>\n",
       "      <td>0.0</td>\n",
       "      <td>0.0</td>\n",
       "      <td>0.0</td>\n",
       "      <td>0.0</td>\n",
       "    </tr>\n",
       "    <tr>\n",
       "      <th>2015-07-01 07:00:00</th>\n",
       "      <td>210.666667</td>\n",
       "      <td>219.0</td>\n",
       "      <td>245.0</td>\n",
       "      <td>219.0</td>\n",
       "      <td>20.46</td>\n",
       "      <td>0.0</td>\n",
       "      <td>0.0</td>\n",
       "      <td>1.0</td>\n",
       "      <td>0.0</td>\n",
       "      <td>0.0</td>\n",
       "      <td>0.0</td>\n",
       "      <td>0.0</td>\n",
       "      <td>0.0</td>\n",
       "    </tr>\n",
       "    <tr>\n",
       "      <th>2015-07-01 08:00:00</th>\n",
       "      <td>223.666667</td>\n",
       "      <td>245.0</td>\n",
       "      <td>266.0</td>\n",
       "      <td>245.0</td>\n",
       "      <td>21.19</td>\n",
       "      <td>0.0</td>\n",
       "      <td>0.0</td>\n",
       "      <td>1.0</td>\n",
       "      <td>0.0</td>\n",
       "      <td>1.0</td>\n",
       "      <td>0.0</td>\n",
       "      <td>0.0</td>\n",
       "      <td>0.0</td>\n",
       "    </tr>\n",
       "  </tbody>\n",
       "</table>\n",
       "</div>"
      ],
      "text/plain": [
       "                     demand_mean(t-3,t-2,t-1)  demand(t-1)_x  demand(t)  \\\n",
       "2015-07-01 04:00:00                220.000000          213.0      206.0   \n",
       "2015-07-01 05:00:00                213.666667          206.0      207.0   \n",
       "2015-07-01 06:00:00                208.666667          207.0      219.0   \n",
       "2015-07-01 07:00:00                210.666667          219.0      245.0   \n",
       "2015-07-01 08:00:00                223.666667          245.0      266.0   \n",
       "\n",
       "                     demand(t-1)_y  temperature(t-1)  holiday_1(t-1)  \\\n",
       "2015-07-01 04:00:00          213.0             19.80             0.0   \n",
       "2015-07-01 05:00:00          206.0             19.85             0.0   \n",
       "2015-07-01 06:00:00          207.0             19.95             0.0   \n",
       "2015-07-01 07:00:00          219.0             20.46             0.0   \n",
       "2015-07-01 08:00:00          245.0             21.19             0.0   \n",
       "\n",
       "                     quarter_2(t-1)  quarter_3(t-1)  quarter_4(t-1)  \\\n",
       "2015-07-01 04:00:00             0.0             1.0             0.0   \n",
       "2015-07-01 05:00:00             0.0             1.0             0.0   \n",
       "2015-07-01 06:00:00             0.0             1.0             0.0   \n",
       "2015-07-01 07:00:00             0.0             1.0             0.0   \n",
       "2015-07-01 08:00:00             0.0             1.0             0.0   \n",
       "\n",
       "                     day_1(t-1)  day_2(t-1)  day_3(t-1)  week_1(t-1)  \n",
       "2015-07-01 04:00:00         0.0         0.0         0.0          0.0  \n",
       "2015-07-01 05:00:00         0.0         0.0         0.0          0.0  \n",
       "2015-07-01 06:00:00         0.0         0.0         0.0          0.0  \n",
       "2015-07-01 07:00:00         0.0         0.0         0.0          0.0  \n",
       "2015-07-01 08:00:00         1.0         0.0         0.0          0.0  "
      ]
     },
     "execution_count": 38,
     "metadata": {},
     "output_type": "execute_result"
    }
   ],
   "source": [
    "tal_multi.head()"
   ]
  },
  {
   "cell_type": "code",
   "execution_count": 39,
   "metadata": {},
   "outputs": [],
   "source": [
    "# rearrange the order of the columns. The output demand(t+1) goes to the last column. \n",
    "tal_multi = tal_multi.reindex(columns=(list([a for a in tal_multi.columns if a != 'demand(t)'] + ['demand(t)']))) "
   ]
  },
  {
   "cell_type": "code",
   "execution_count": 40,
   "metadata": {},
   "outputs": [
    {
     "data": {
      "text/html": [
       "<div>\n",
       "<style scoped>\n",
       "    .dataframe tbody tr th:only-of-type {\n",
       "        vertical-align: middle;\n",
       "    }\n",
       "\n",
       "    .dataframe tbody tr th {\n",
       "        vertical-align: top;\n",
       "    }\n",
       "\n",
       "    .dataframe thead th {\n",
       "        text-align: right;\n",
       "    }\n",
       "</style>\n",
       "<table border=\"1\" class=\"dataframe\">\n",
       "  <thead>\n",
       "    <tr style=\"text-align: right;\">\n",
       "      <th></th>\n",
       "      <th>demand_mean(t-3,t-2,t-1)</th>\n",
       "      <th>demand(t-1)_x</th>\n",
       "      <th>demand(t-1)_y</th>\n",
       "      <th>temperature(t-1)</th>\n",
       "      <th>holiday_1(t-1)</th>\n",
       "      <th>quarter_2(t-1)</th>\n",
       "      <th>quarter_3(t-1)</th>\n",
       "      <th>quarter_4(t-1)</th>\n",
       "      <th>day_1(t-1)</th>\n",
       "      <th>day_2(t-1)</th>\n",
       "      <th>day_3(t-1)</th>\n",
       "      <th>week_1(t-1)</th>\n",
       "      <th>demand(t)</th>\n",
       "    </tr>\n",
       "  </thead>\n",
       "  <tbody>\n",
       "    <tr>\n",
       "      <th>2015-07-01 04:00:00</th>\n",
       "      <td>220.000000</td>\n",
       "      <td>213.0</td>\n",
       "      <td>213.0</td>\n",
       "      <td>19.80</td>\n",
       "      <td>0.0</td>\n",
       "      <td>0.0</td>\n",
       "      <td>1.0</td>\n",
       "      <td>0.0</td>\n",
       "      <td>0.0</td>\n",
       "      <td>0.0</td>\n",
       "      <td>0.0</td>\n",
       "      <td>0.0</td>\n",
       "      <td>206.0</td>\n",
       "    </tr>\n",
       "    <tr>\n",
       "      <th>2015-07-01 05:00:00</th>\n",
       "      <td>213.666667</td>\n",
       "      <td>206.0</td>\n",
       "      <td>206.0</td>\n",
       "      <td>19.85</td>\n",
       "      <td>0.0</td>\n",
       "      <td>0.0</td>\n",
       "      <td>1.0</td>\n",
       "      <td>0.0</td>\n",
       "      <td>0.0</td>\n",
       "      <td>0.0</td>\n",
       "      <td>0.0</td>\n",
       "      <td>0.0</td>\n",
       "      <td>207.0</td>\n",
       "    </tr>\n",
       "    <tr>\n",
       "      <th>2015-07-01 06:00:00</th>\n",
       "      <td>208.666667</td>\n",
       "      <td>207.0</td>\n",
       "      <td>207.0</td>\n",
       "      <td>19.95</td>\n",
       "      <td>0.0</td>\n",
       "      <td>0.0</td>\n",
       "      <td>1.0</td>\n",
       "      <td>0.0</td>\n",
       "      <td>0.0</td>\n",
       "      <td>0.0</td>\n",
       "      <td>0.0</td>\n",
       "      <td>0.0</td>\n",
       "      <td>219.0</td>\n",
       "    </tr>\n",
       "    <tr>\n",
       "      <th>2015-07-01 07:00:00</th>\n",
       "      <td>210.666667</td>\n",
       "      <td>219.0</td>\n",
       "      <td>219.0</td>\n",
       "      <td>20.46</td>\n",
       "      <td>0.0</td>\n",
       "      <td>0.0</td>\n",
       "      <td>1.0</td>\n",
       "      <td>0.0</td>\n",
       "      <td>0.0</td>\n",
       "      <td>0.0</td>\n",
       "      <td>0.0</td>\n",
       "      <td>0.0</td>\n",
       "      <td>245.0</td>\n",
       "    </tr>\n",
       "    <tr>\n",
       "      <th>2015-07-01 08:00:00</th>\n",
       "      <td>223.666667</td>\n",
       "      <td>245.0</td>\n",
       "      <td>245.0</td>\n",
       "      <td>21.19</td>\n",
       "      <td>0.0</td>\n",
       "      <td>0.0</td>\n",
       "      <td>1.0</td>\n",
       "      <td>0.0</td>\n",
       "      <td>1.0</td>\n",
       "      <td>0.0</td>\n",
       "      <td>0.0</td>\n",
       "      <td>0.0</td>\n",
       "      <td>266.0</td>\n",
       "    </tr>\n",
       "  </tbody>\n",
       "</table>\n",
       "</div>"
      ],
      "text/plain": [
       "                     demand_mean(t-3,t-2,t-1)  demand(t-1)_x  demand(t-1)_y  \\\n",
       "2015-07-01 04:00:00                220.000000          213.0          213.0   \n",
       "2015-07-01 05:00:00                213.666667          206.0          206.0   \n",
       "2015-07-01 06:00:00                208.666667          207.0          207.0   \n",
       "2015-07-01 07:00:00                210.666667          219.0          219.0   \n",
       "2015-07-01 08:00:00                223.666667          245.0          245.0   \n",
       "\n",
       "                     temperature(t-1)  holiday_1(t-1)  quarter_2(t-1)  \\\n",
       "2015-07-01 04:00:00             19.80             0.0             0.0   \n",
       "2015-07-01 05:00:00             19.85             0.0             0.0   \n",
       "2015-07-01 06:00:00             19.95             0.0             0.0   \n",
       "2015-07-01 07:00:00             20.46             0.0             0.0   \n",
       "2015-07-01 08:00:00             21.19             0.0             0.0   \n",
       "\n",
       "                     quarter_3(t-1)  quarter_4(t-1)  day_1(t-1)  day_2(t-1)  \\\n",
       "2015-07-01 04:00:00             1.0             0.0         0.0         0.0   \n",
       "2015-07-01 05:00:00             1.0             0.0         0.0         0.0   \n",
       "2015-07-01 06:00:00             1.0             0.0         0.0         0.0   \n",
       "2015-07-01 07:00:00             1.0             0.0         0.0         0.0   \n",
       "2015-07-01 08:00:00             1.0             0.0         1.0         0.0   \n",
       "\n",
       "                     day_3(t-1)  week_1(t-1)  demand(t)  \n",
       "2015-07-01 04:00:00         0.0          0.0      206.0  \n",
       "2015-07-01 05:00:00         0.0          0.0      207.0  \n",
       "2015-07-01 06:00:00         0.0          0.0      219.0  \n",
       "2015-07-01 07:00:00         0.0          0.0      245.0  \n",
       "2015-07-01 08:00:00         0.0          0.0      266.0  "
      ]
     },
     "execution_count": 40,
     "metadata": {},
     "output_type": "execute_result"
    }
   ],
   "source": [
    "tal_multi.head()"
   ]
  },
  {
   "cell_type": "code",
   "execution_count": 81,
   "metadata": {},
   "outputs": [],
   "source": [
    "tal_multi.drop(columns = 'demand(t-1)_y', inplace = True)"
   ]
  },
  {
   "cell_type": "code",
   "execution_count": 84,
   "metadata": {},
   "outputs": [],
   "source": [
    "tal_multi = tal_multi.rename(columns={'demand(t-1)_x': 'demand(t-1)'}) "
   ]
  },
  {
   "cell_type": "code",
   "execution_count": 86,
   "metadata": {},
   "outputs": [],
   "source": [
    "tal_multi.to_csv(\"tal_multi.csv\")"
   ]
  },
  {
   "cell_type": "markdown",
   "metadata": {},
   "source": [
    "### Linear regression of lag features input have alreday beat the baseline one-step naive forecast model. We notice that the test error even smaller than the train error when we have the last year as test dataset. If we set the test dataset, test RMSE is again bigger than train RMSE.  We will now import external features which we already prepared to see if we get better results. "
   ]
  },
  {
   "cell_type": "markdown",
   "metadata": {},
   "source": [
    "#### Tree models to see the feature importance of the model using built-in feature_importances_"
   ]
  },
  {
   "cell_type": "markdown",
   "metadata": {},
   "source": [
    "## Section 2: external input features "
   ]
  },
  {
   "cell_type": "code",
   "execution_count": 89,
   "metadata": {},
   "outputs": [],
   "source": [
    "# split into train and test sets\n",
    "n_features = 11\n",
    "X = tal_multi.values\n",
    "n_test = int(365*24*1)\n",
    "train_3, test_3 = X[:-n_test], X[-n_test:] \n",
    "\n",
    "# split into input X and oupt y\n",
    "X_train_3, y_train_3 = train_3[:,:n_features], train_3[:,n_features:] \n",
    "X_test_3, y_test_3 = test_3[:,:n_features], test_3[:,n_features:]"
   ]
  },
  {
   "cell_type": "code",
   "execution_count": 90,
   "metadata": {},
   "outputs": [
    {
     "name": "stdout",
     "output_type": "stream",
     "text": [
      "Linear Regression\n",
      "TRAIN : t+1 RMSE: 12.4912 ,TEST : t+1 RMSE: 10.9564\n",
      "---------------------\n",
      "Decision Tree Regressor\n",
      "TRAIN : t+1 RMSE: 0.1220 ,TEST : t+1 RMSE: 13.6070\n",
      "---------------------\n",
      "Random Forest Regressor\n",
      "TRAIN : t+1 RMSE: 4.4008 ,TEST : t+1 RMSE: 10.1673\n",
      "---------------------\n",
      "KNeighbors Regressor\n",
      "TRAIN : t+1 RMSE: 9.3354 ,TEST : t+1 RMSE: 12.0667\n",
      "---------------------\n",
      "Support Vector Regression\n",
      "TRAIN : t+1 RMSE: 24.9482 ,TEST : t+1 RMSE: 26.6666\n",
      "---------------------\n",
      "Gradient Boosting Regressor\n",
      "TRAIN : t+1 RMSE: 12.1792 ,TEST : t+1 RMSE: 12.1280\n",
      "---------------------\n",
      "AdaBoost Regressor\n",
      "TRAIN : t+1 RMSE: 28.0780 ,TEST : t+1 RMSE: 29.7884\n",
      "---------------------\n"
     ]
    }
   ],
   "source": [
    "for name, model in models.items():\n",
    "    scores = evaluate_ml(model, X_train_3, y_train_3, X_test_3, y_test_3, 1, name) "
   ]
  },
  {
   "cell_type": "code",
   "execution_count": 91,
   "metadata": {},
   "outputs": [
    {
     "name": "stdout",
     "output_type": "stream",
     "text": [
      "Linear Regression\n",
      "TRAIN : t+1 RMSE: 12.4912 ,TEST : t+1 RMSE: 10.9564\n",
      "---------------------\n"
     ]
    },
    {
     "data": {
      "text/plain": [
       "(12.491248724495856, 10.956435395183819)"
      ]
     },
     "execution_count": 91,
     "metadata": {},
     "output_type": "execute_result"
    }
   ],
   "source": [
    "### Linear Regression ###\n",
    "# Create the model pipeline\n",
    "steps = [('scaler', MinMaxScaler(feature_range=(0, 1))),\n",
    "         ('Linear', LinearRegression())]\n",
    "\n",
    "model_lr = Pipeline(steps)\n",
    "\n",
    "# Fit to the training set\n",
    "model_lr.fit(X_train_3, y_train_3)\n",
    "\n",
    "# Evaluate model\n",
    "evaluate_ml(model_lr, X_train_3, y_train_3, X_test_3, y_test_3, 1, 'Linear Regression')"
   ]
  },
  {
   "cell_type": "code",
   "execution_count": 92,
   "metadata": {},
   "outputs": [
    {
     "data": {
      "text/plain": [
       "Pipeline(memory=None,\n",
       "         steps=[('scaler', MinMaxScaler(copy=True, feature_range=(0, 1))),\n",
       "                ('Linear',\n",
       "                 LinearRegression(copy_X=True, fit_intercept=True, n_jobs=None,\n",
       "                                  normalize=False))],\n",
       "         verbose=False)"
      ]
     },
     "execution_count": 92,
     "metadata": {},
     "output_type": "execute_result"
    }
   ],
   "source": [
    "# Fit to the training set\n",
    "y_pred_test = model_lr.fit(X_train_3, y_train_3)\n",
    "y_pred_test "
   ]
  },
  {
   "cell_type": "code",
   "execution_count": 93,
   "metadata": {},
   "outputs": [
    {
     "data": {
      "text/plain": [
       "array([[251.81840324],\n",
       "       [248.50860946],\n",
       "       [251.46135889],\n",
       "       ...,\n",
       "       [297.26417758],\n",
       "       [272.29228547],\n",
       "       [257.37522435]])"
      ]
     },
     "execution_count": 93,
     "metadata": {},
     "output_type": "execute_result"
    }
   ],
   "source": [
    "y_pred_test = model_lr.predict(X_test_3)\n",
    "y_pred_test"
   ]
  },
  {
   "cell_type": "code",
   "execution_count": 94,
   "metadata": {},
   "outputs": [],
   "source": [
    "# calculate residuals\n",
    "residuals_lr3 = [y_test_3[:,:1][i]-y_pred_test[i] for i in range(len(y_pred_test))] \n",
    "residuals_lr3 = pd.DataFrame(residuals_lr3)"
   ]
  },
  {
   "cell_type": "code",
   "execution_count": 95,
   "metadata": {},
   "outputs": [
    {
     "data": {
      "image/png": "[encoded data removed]",
      "text/plain": [
       "<Figure size 1440x1080 with 4 Axes>"
      ]
     },
     "metadata": {
      "needs_background": "light"
     },
     "output_type": "display_data"
    }
   ],
   "source": [
    "residuals_analysis(residuals_lr3)"
   ]
  },
  {
   "cell_type": "code",
   "execution_count": null,
   "metadata": {},
   "outputs": [],
   "source": []
  },
  {
   "cell_type": "markdown",
   "metadata": {},
   "source": [
    "## The Random Forest Regressor Model is suffering overfitting. Since it performs still best. We will try to tune some parameters."
   ]
  },
  {
   "cell_type": "code",
   "execution_count": 96,
   "metadata": {},
   "outputs": [
    {
     "name": "stdout",
     "output_type": "stream",
     "text": [
      "Random Forest Regressor\n",
      "TRAIN : t+1 RMSE: 3.7013 ,TEST : t+1 RMSE: 9.5498\n",
      "---------------------\n"
     ]
    },
    {
     "data": {
      "text/plain": [
       "(3.70134798983778, 9.549829259643383)"
      ]
     },
     "execution_count": 96,
     "metadata": {},
     "output_type": "execute_result"
    }
   ],
   "source": [
    "### Random Forest Regressor ###\n",
    "# Create the model pipeline\n",
    "steps = [('scaler', MinMaxScaler(feature_range=(0, 1))),\n",
    "         ('randomforest', RandomForestRegressor(n_estimators = 200, n_jobs = -1,random_state =1))]\n",
    "\n",
    "model_rf1 = Pipeline(steps)\n",
    "\n",
    "# Fit to the training set\n",
    "model_rf1.fit(X_train_3, y_train_3)\n",
    "\n",
    "# Evaluate model\n",
    "evaluate_ml(model_rf1, X_train_3, y_train_3, X_test_3, y_test_3, 1, 'Random Forest Regressor')"
   ]
  },
  {
   "cell_type": "code",
   "execution_count": 98,
   "metadata": {},
   "outputs": [
    {
     "name": "stdout",
     "output_type": "stream",
     "text": [
      "[1.92590069e-02 9.46762773e-01 2.27373343e-02 1.40513700e-06\n",
      " 4.13424042e-04 9.01735209e-04 3.48881950e-04 5.58291375e-03\n",
      " 2.30830138e-03 1.34508223e-03 3.39142454e-04]\n"
     ]
    }
   ],
   "source": [
    "#use inbuilt class feature_importances of tree based classifiers\n",
    "print(model_rf1[1].feature_importances_)"
   ]
  },
  {
   "cell_type": "code",
   "execution_count": 101,
   "metadata": {},
   "outputs": [
    {
     "data": {
      "image/png": "[encoded data removed]",
      "text/plain": [
       "<Figure size 432x288 with 1 Axes>"
      ]
     },
     "metadata": {
      "needs_background": "light"
     },
     "output_type": "display_data"
    }
   ],
   "source": [
    "#plot graph of feature importances for better visualization\n",
    "feat_importances = pd.Series(model_rf1[1].feature_importances_, index=tal_multi.columns[:-1])\n",
    "feat_importances.nlargest(5).plot(kind='barh')\n",
    "plt.title(\"5 most important features of Random Forest model\")\n",
    "plt.show()"
   ]
  },
  {
   "cell_type": "code",
   "execution_count": 102,
   "metadata": {},
   "outputs": [
    {
     "name": "stdout",
     "output_type": "stream",
     "text": [
      "{'max_features': 'auto', 'n_estimators': 500}\n"
     ]
    }
   ],
   "source": [
    "from sklearn.model_selection import GridSearchCV\n",
    "rfc = RandomForestRegressor(n_jobs = -1, n_estimators=50, oob_score = True) \n",
    "\n",
    "param_grid = { \n",
    "    'n_estimators': [200, 500],   # The number of trees in the forest.\n",
    "    'max_features': ['auto', 'sqrt', 'log2']\n",
    "}\n",
    "\n",
    "CV_rfc = GridSearchCV(estimator=rfc, param_grid=param_grid,cv=None)\n",
    "CV_rfc.fit(X_train_3, y_train_3)\n",
    "print(CV_rfc.best_params_)"
   ]
  },
  {
   "cell_type": "code",
   "execution_count": 103,
   "metadata": {},
   "outputs": [
    {
     "name": "stdout",
     "output_type": "stream",
     "text": [
      "Random Forest Regressor\n",
      "TRAIN : t+1 RMSE: 3.6880 ,TEST : t+1 RMSE: 9.5366\n",
      "---------------------\n"
     ]
    },
    {
     "data": {
      "text/plain": [
       "(3.6880182035421125, 9.536615936075282)"
      ]
     },
     "execution_count": 103,
     "metadata": {},
     "output_type": "execute_result"
    }
   ],
   "source": [
    "steps = [('scaler', MinMaxScaler(feature_range=(0, 1))),\n",
    "         ('randomforest', RandomForestRegressor(n_estimators = 500, n_jobs = -1,random_state =1))]\n",
    "\n",
    "model_rf1 = Pipeline(steps)\n",
    "\n",
    "# Fit to the training set\n",
    "model_rf1.fit(X_train_3, y_train_3)\n",
    "\n",
    "# Evaluate model\n",
    "evaluate_ml(model_rf1, X_train_3, y_train_3, X_test_3, y_test_3, 1, 'Random Forest Regressor')"
   ]
  },
  {
   "cell_type": "markdown",
   "metadata": {},
   "source": [
    "<a id='mt2'></a> \n",
    "### 6.3 PART Three: Univariate multisteps forecasts"
   ]
  },
  {
   "cell_type": "markdown",
   "metadata": {},
   "source": [
    "### Most predictive modeling algorithms will take some number of observations as input and predict a single output value. They cannot be used directly to make a multi-step time series forecast. This applies to most linear, nonlinear, and ensemble machine learning algorithms.\n",
    "\n",
    "## One approach where machine learning algorithms can be used to make a multi-step time series forecast is to use them recursively."
   ]
  },
  {
   "cell_type": "code",
   "execution_count": 104,
   "metadata": {},
   "outputs": [
    {
     "data": {
      "text/html": [
       "<div>\n",
       "<style scoped>\n",
       "    .dataframe tbody tr th:only-of-type {\n",
       "        vertical-align: middle;\n",
       "    }\n",
       "\n",
       "    .dataframe tbody tr th {\n",
       "        vertical-align: top;\n",
       "    }\n",
       "\n",
       "    .dataframe thead th {\n",
       "        text-align: right;\n",
       "    }\n",
       "</style>\n",
       "<table border=\"1\" class=\"dataframe\">\n",
       "  <thead>\n",
       "    <tr style=\"text-align: right;\">\n",
       "      <th></th>\n",
       "      <th>t-1</th>\n",
       "      <th>t</th>\n",
       "    </tr>\n",
       "  </thead>\n",
       "  <tbody>\n",
       "    <tr>\n",
       "      <th>2015-07-01 02:00:00</th>\n",
       "      <td>225.0</td>\n",
       "      <td>222.0</td>\n",
       "    </tr>\n",
       "    <tr>\n",
       "      <th>2015-07-01 03:00:00</th>\n",
       "      <td>222.0</td>\n",
       "      <td>213.0</td>\n",
       "    </tr>\n",
       "    <tr>\n",
       "      <th>2015-07-01 04:00:00</th>\n",
       "      <td>213.0</td>\n",
       "      <td>206.0</td>\n",
       "    </tr>\n",
       "    <tr>\n",
       "      <th>2015-07-01 05:00:00</th>\n",
       "      <td>206.0</td>\n",
       "      <td>207.0</td>\n",
       "    </tr>\n",
       "    <tr>\n",
       "      <th>2015-07-01 06:00:00</th>\n",
       "      <td>207.0</td>\n",
       "      <td>219.0</td>\n",
       "    </tr>\n",
       "  </tbody>\n",
       "</table>\n",
       "</div>"
      ],
      "text/plain": [
       "                       t-1      t\n",
       "2015-07-01 02:00:00  225.0  222.0\n",
       "2015-07-01 03:00:00  222.0  213.0\n",
       "2015-07-01 04:00:00  213.0  206.0\n",
       "2015-07-01 05:00:00  206.0  207.0\n",
       "2015-07-01 06:00:00  207.0  219.0"
      ]
     },
     "execution_count": 104,
     "metadata": {},
     "output_type": "execute_result"
    }
   ],
   "source": [
    "dataframe.head()"
   ]
  },
  {
   "cell_type": "code",
   "execution_count": 105,
   "metadata": {},
   "outputs": [
    {
     "data": {
      "text/plain": [
       "Pipeline(memory=None,\n",
       "         steps=[('scaler', MinMaxScaler(copy=True, feature_range=(0, 1))),\n",
       "                ('Linear',\n",
       "                 LinearRegression(copy_X=True, fit_intercept=True, n_jobs=None,\n",
       "                                  normalize=False))],\n",
       "         verbose=False)"
      ]
     },
     "execution_count": 105,
     "metadata": {},
     "output_type": "execute_result"
    }
   ],
   "source": [
    "# first load the data\n",
    "\n",
    "# split into train and test sets\n",
    "X = dataframe.values.copy()\n",
    "n_test = int(365*24*1)\n",
    "train, test = X[:-n_test], X[-n_test:] \n",
    "\n",
    "X_train, y_train = train[:,:1], train[:,1:] \n",
    "X_test, y_test = test[:,:1], test[:,1:]\n",
    "\n",
    "### Linear Regression ###\n",
    "# Create the model pipeline\n",
    "steps = [('scaler', MinMaxScaler(feature_range=(0, 1))),\n",
    "         ('Linear', LinearRegression())]\n",
    "\n",
    "model = Pipeline(steps)\n",
    "\n",
    "# Fit to the training set\n",
    "model.fit(X_train, y_train)\n"
   ]
  },
  {
   "cell_type": "code",
   "execution_count": 106,
   "metadata": {},
   "outputs": [],
   "source": [
    "def multistep_model(n_seq, test, model):\n",
    "    #n_seq= 24   # number of steps we want to predict ahead\n",
    "    actual = []\n",
    "    #rmse_tests = []\n",
    "    yhat_total = []\n",
    "\n",
    "    test = pd.DataFrame(test,columns = ['t-1','t'])\n",
    "    \n",
    "    for t, _ in test.iterrows():\n",
    "        # copy test to test_local which will change every time\n",
    "        test_local = test.copy()\n",
    "        \n",
    "        # ensure we have enough data for this instance\n",
    "        if t+n_seq < test_local.shape[0]:\n",
    "        # predicting n_seq = 24 steps ahead, so true demand is demand at t+24\n",
    "            actual.append(test_local.at[t+n_seq, \"t\"])\n",
    "    \n",
    "            predictions = []      \n",
    "            for step in range(1,n_seq+1): \n",
    "                # define the input test data, the first test value is from the true dataset.\n",
    "                X_test_m = test_local.at[t+step-1,\"t-1\"].reshape(1,-1)\n",
    "\n",
    "                # make prediction of test input data \n",
    "                predict_next= model.predict(X_test_m)\n",
    "            \n",
    "                # update the next test data with the predicted value\n",
    "                test_local.at[t+step, \"t-1\"] =  predict_next\n",
    "        \n",
    "                # add to the predictions list for this n_seq \n",
    "                predictions.append(predict_next)\n",
    "            \n",
    "            # the last prediction for step 24 is what we are after\n",
    "            yhat = predictions[n_seq-1]\n",
    "        \n",
    "            # add to the yhat_total list. This is all we have predicted for the next 24 steps.\n",
    "            yhat_total.append(yhat) \n",
    "        \n",
    "    # convert list of 2d arrays to 1d list\n",
    "    yhat_total =oneDArray(oneDArray(yhat_total))\n",
    "    \n",
    "    rmse_test = np.sqrt(mean_squared_error(actual, yhat_total))\n",
    "    print('Test: RMSE: t+%d: %f' %(n_seq,rmse_test))\n",
    "    return actual, yhat_total, rmse_test"
   ]
  },
  {
   "cell_type": "code",
   "execution_count": 107,
   "metadata": {},
   "outputs": [
    {
     "name": "stdout",
     "output_type": "stream",
     "text": [
      "Test: RMSE: t+24: 53.832218\n"
     ]
    }
   ],
   "source": [
    "actual24, yhat_total24, rmse_24 = multistep_model(24, test, model)"
   ]
  },
  {
   "cell_type": "code",
   "execution_count": 108,
   "metadata": {},
   "outputs": [
    {
     "name": "stdout",
     "output_type": "stream",
     "text": [
      "Test: RMSE: t+1: 37.377925\n"
     ]
    }
   ],
   "source": [
    "actual1, yhat_total1, rmse_1 = multistep_model(1, test, model)"
   ]
  },
  {
   "cell_type": "code",
   "execution_count": 255,
   "metadata": {},
   "outputs": [
    {
     "data": {
      "text/plain": [
       "53.83221843212524"
      ]
     },
     "execution_count": 255,
     "metadata": {},
     "output_type": "execute_result"
    }
   ],
   "source": [
    "np.sqrt(mean_squared_error(actual24,yhat_total24))"
   ]
  },
  {
   "cell_type": "code",
   "execution_count": 249,
   "metadata": {},
   "outputs": [
    {
     "data": {
      "text/plain": [
       "[<matplotlib.lines.Line2D at 0x1c3b533748>]"
      ]
     },
     "execution_count": 249,
     "metadata": {},
     "output_type": "execute_result"
    },
    {
     "data": {
      "image/png": "[encoded data removed]",
      "text/plain": [
       "<Figure size 792x648 with 1 Axes>"
      ]
     },
     "metadata": {
      "needs_background": "light"
     },
     "output_type": "display_data"
    }
   ],
   "source": [
    "rcParams['figure.figsize'] = 11, 9\n",
    "plt.plot(actual1,label='actual')\n",
    "plt.plot(yhat_total1, color='red',label='prediction')"
   ]
  },
  {
   "cell_type": "code",
   "execution_count": 192,
   "metadata": {},
   "outputs": [
    {
     "data": {
      "text/plain": [
       "53.83221843212524"
      ]
     },
     "execution_count": 192,
     "metadata": {},
     "output_type": "execute_result"
    }
   ],
   "source": [
    "np.sqrt(mean_squared_error(actual, yhat_total))"
   ]
  },
  {
   "cell_type": "code",
   "execution_count": 290,
   "metadata": {},
   "outputs": [
    {
     "data": {
      "text/plain": [
       "43.20999401381205"
      ]
     },
     "execution_count": 290,
     "metadata": {},
     "output_type": "execute_result"
    }
   ],
   "source": [
    "np.sqrt(mean_squared_error(actual24[:100],yhat_total24[:100]))"
   ]
  },
  {
   "cell_type": "code",
   "execution_count": 180,
   "metadata": {},
   "outputs": [
    {
     "data": {
      "text/plain": [
       "8758"
      ]
     },
     "execution_count": 180,
     "metadata": {},
     "output_type": "execute_result"
    }
   ],
   "source": [
    "len(actual)"
   ]
  },
  {
   "cell_type": "code",
   "execution_count": 181,
   "metadata": {},
   "outputs": [
    {
     "data": {
      "text/plain": [
       "8758"
      ]
     },
     "execution_count": 181,
     "metadata": {},
     "output_type": "execute_result"
    }
   ],
   "source": [
    "len(yhat_total)"
   ]
  },
  {
   "cell_type": "code",
   "execution_count": 304,
   "metadata": {},
   "outputs": [
    {
     "data": {
      "image/png": "[encoded data removed]",
      "text/plain": [
       "<Figure size 792x648 with 1 Axes>"
      ]
     },
     "metadata": {
      "needs_background": "light"
     },
     "output_type": "display_data"
    }
   ],
   "source": [
    "rcParams['figure.figsize'] = 11, 9   # Dynamic rc settings\n",
    "plt.plot(actual2[8:],label='actual')  # to ensure each steps start at the same point.\n",
    "plt.plot(yhat_total2[8:], color='red',label='2 steps prediction')\n",
    "plt.plot(yhat_total10, color='green',label='10 steps prediction')\n",
    "plt.xlabel('records')\n",
    "plt.ylabel('MegaWatthour')\n",
    "plt.title('Tallahassee hourly electricity demand')\n",
    "plt.legend()\n",
    "plt.show()"
   ]
  },
  {
   "cell_type": "code",
   "execution_count": 243,
   "metadata": {},
   "outputs": [
    {
     "data": {
      "image/png": "[encoded data removed]",
      "text/plain": [
       "<Figure size 792x648 with 1 Axes>"
      ]
     },
     "metadata": {
      "needs_background": "light"
     },
     "output_type": "display_data"
    }
   ],
   "source": [
    "rcParams['figure.figsize'] = 11, 9   # Dynamic rc settings\n",
    "plt.plot(actual10,label='actual')\n",
    "plt.plot(yhat_total10, color='red',label='10 steps prediction')\n",
    "plt.xlabel('records')\n",
    "plt.ylabel('MegaWatthour')\n",
    "plt.title('Tallahassee hourly electricity demand')\n",
    "plt.legend()\n",
    "plt.show()"
   ]
  },
  {
   "cell_type": "code",
   "execution_count": 258,
   "metadata": {},
   "outputs": [
    {
     "data": {
      "image/png": "[encoded data removed]",
      "text/plain": [
       "<Figure size 792x648 with 1 Axes>"
      ]
     },
     "metadata": {
      "needs_background": "light"
     },
     "output_type": "display_data"
    }
   ],
   "source": [
    "rcParams['figure.figsize'] = 11, 9   # Dynamic rc settings\n",
    "plt.plot(actual24,label='actual')\n",
    "plt.plot(yhat_total24, color='red',label='24 steps prediction')\n",
    "plt.xlabel('records')\n",
    "plt.ylabel('MegaWatthour')\n",
    "plt.title('Tallahassee hourly electricity demand')\n",
    "plt.legend()\n",
    "plt.show()"
   ]
  },
  {
   "cell_type": "code",
   "execution_count": 269,
   "metadata": {},
   "outputs": [],
   "source": [
    "# calculate residuals\n",
    "residuals_1 = [actual1[i]-yhat_total1[i] for i in range(len(yhat_total1))] \n",
    "residuals_1 = pd.DataFrame(residuals_1)"
   ]
  },
  {
   "cell_type": "code",
   "execution_count": 270,
   "metadata": {},
   "outputs": [
    {
     "data": {
      "text/html": [
       "<div>\n",
       "<style scoped>\n",
       "    .dataframe tbody tr th:only-of-type {\n",
       "        vertical-align: middle;\n",
       "    }\n",
       "\n",
       "    .dataframe tbody tr th {\n",
       "        vertical-align: top;\n",
       "    }\n",
       "\n",
       "    .dataframe thead th {\n",
       "        text-align: right;\n",
       "    }\n",
       "</style>\n",
       "<table border=\"1\" class=\"dataframe\">\n",
       "  <thead>\n",
       "    <tr style=\"text-align: right;\">\n",
       "      <th></th>\n",
       "      <th>0</th>\n",
       "    </tr>\n",
       "  </thead>\n",
       "  <tbody>\n",
       "    <tr>\n",
       "      <th>count</th>\n",
       "      <td>8759.000000</td>\n",
       "    </tr>\n",
       "    <tr>\n",
       "      <th>mean</th>\n",
       "      <td>0.131612</td>\n",
       "    </tr>\n",
       "    <tr>\n",
       "      <th>std</th>\n",
       "      <td>37.379827</td>\n",
       "    </tr>\n",
       "    <tr>\n",
       "      <th>min</th>\n",
       "      <td>-133.923934</td>\n",
       "    </tr>\n",
       "    <tr>\n",
       "      <th>25%</th>\n",
       "      <td>-28.328983</td>\n",
       "    </tr>\n",
       "    <tr>\n",
       "      <th>50%</th>\n",
       "      <td>-1.407193</td>\n",
       "    </tr>\n",
       "    <tr>\n",
       "      <th>75%</th>\n",
       "      <td>26.343560</td>\n",
       "    </tr>\n",
       "    <tr>\n",
       "      <th>max</th>\n",
       "      <td>126.177927</td>\n",
       "    </tr>\n",
       "  </tbody>\n",
       "</table>\n",
       "</div>"
      ],
      "text/plain": [
       "                 0\n",
       "count  8759.000000\n",
       "mean      0.131612\n",
       "std      37.379827\n",
       "min    -133.923934\n",
       "25%     -28.328983\n",
       "50%      -1.407193\n",
       "75%      26.343560\n",
       "max     126.177927"
      ]
     },
     "execution_count": 270,
     "metadata": {},
     "output_type": "execute_result"
    }
   ],
   "source": [
    "residuals_1.describe()"
   ]
  },
  {
   "cell_type": "code",
   "execution_count": 277,
   "metadata": {},
   "outputs": [
    {
     "data": {
      "text/plain": [
       "0    1332\n",
       "dtype: int64"
      ]
     },
     "execution_count": 277,
     "metadata": {},
     "output_type": "execute_result"
    }
   ],
   "source": [
    "residuals_1.idxmax()"
   ]
  },
  {
   "cell_type": "code",
   "execution_count": 279,
   "metadata": {},
   "outputs": [
    {
     "data": {
      "text/plain": [
       "0    126.177927\n",
       "Name: 1332, dtype: float64"
      ]
     },
     "execution_count": 279,
     "metadata": {},
     "output_type": "execute_result"
    }
   ],
   "source": [
    "residuals_1.iloc[1332]"
   ]
  },
  {
   "cell_type": "code",
   "execution_count": 261,
   "metadata": {},
   "outputs": [],
   "source": [
    "# calculate residuals\n",
    "residuals_24 = [actual24[i]-yhat_total24[i] for i in range(len(yhat_total24))] \n",
    "residuals_24 = pd.DataFrame(residuals_24)"
   ]
  },
  {
   "cell_type": "code",
   "execution_count": 282,
   "metadata": {},
   "outputs": [
    {
     "data": {
      "text/html": [
       "<div>\n",
       "<style scoped>\n",
       "    .dataframe tbody tr th:only-of-type {\n",
       "        vertical-align: middle;\n",
       "    }\n",
       "\n",
       "    .dataframe tbody tr th {\n",
       "        vertical-align: top;\n",
       "    }\n",
       "\n",
       "    .dataframe thead th {\n",
       "        text-align: right;\n",
       "    }\n",
       "</style>\n",
       "<table border=\"1\" class=\"dataframe\">\n",
       "  <thead>\n",
       "    <tr style=\"text-align: right;\">\n",
       "      <th></th>\n",
       "      <th>0</th>\n",
       "    </tr>\n",
       "  </thead>\n",
       "  <tbody>\n",
       "    <tr>\n",
       "      <th>0</th>\n",
       "      <td>-35.680779</td>\n",
       "    </tr>\n",
       "    <tr>\n",
       "      <th>1</th>\n",
       "      <td>-33.225811</td>\n",
       "    </tr>\n",
       "    <tr>\n",
       "      <th>2</th>\n",
       "      <td>-21.235818</td>\n",
       "    </tr>\n",
       "    <tr>\n",
       "      <th>3</th>\n",
       "      <td>6.814217</td>\n",
       "    </tr>\n",
       "    <tr>\n",
       "      <th>4</th>\n",
       "      <td>13.974330</td>\n",
       "    </tr>\n",
       "  </tbody>\n",
       "</table>\n",
       "</div>"
      ],
      "text/plain": [
       "           0\n",
       "0 -35.680779\n",
       "1 -33.225811\n",
       "2 -21.235818\n",
       "3   6.814217\n",
       "4  13.974330"
      ]
     },
     "execution_count": 282,
     "metadata": {},
     "output_type": "execute_result"
    }
   ],
   "source": [
    "residuals_24.head()"
   ]
  },
  {
   "cell_type": "code",
   "execution_count": 264,
   "metadata": {},
   "outputs": [
    {
     "data": {
      "text/html": [
       "<div>\n",
       "<style scoped>\n",
       "    .dataframe tbody tr th:only-of-type {\n",
       "        vertical-align: middle;\n",
       "    }\n",
       "\n",
       "    .dataframe tbody tr th {\n",
       "        vertical-align: top;\n",
       "    }\n",
       "\n",
       "    .dataframe thead th {\n",
       "        text-align: right;\n",
       "    }\n",
       "</style>\n",
       "<table border=\"1\" class=\"dataframe\">\n",
       "  <thead>\n",
       "    <tr style=\"text-align: right;\">\n",
       "      <th></th>\n",
       "      <th>0</th>\n",
       "    </tr>\n",
       "  </thead>\n",
       "  <tbody>\n",
       "    <tr>\n",
       "      <th>count</th>\n",
       "      <td>8736.000000</td>\n",
       "    </tr>\n",
       "    <tr>\n",
       "      <th>mean</th>\n",
       "      <td>2.142634</td>\n",
       "    </tr>\n",
       "    <tr>\n",
       "      <th>std</th>\n",
       "      <td>53.792640</td>\n",
       "    </tr>\n",
       "    <tr>\n",
       "      <th>min</th>\n",
       "      <td>-118.565346</td>\n",
       "    </tr>\n",
       "    <tr>\n",
       "      <th>25%</th>\n",
       "      <td>-37.406748</td>\n",
       "    </tr>\n",
       "    <tr>\n",
       "      <th>50%</th>\n",
       "      <td>-8.330532</td>\n",
       "    </tr>\n",
       "    <tr>\n",
       "      <th>75%</th>\n",
       "      <td>34.518551</td>\n",
       "    </tr>\n",
       "    <tr>\n",
       "      <th>max</th>\n",
       "      <td>177.945014</td>\n",
       "    </tr>\n",
       "  </tbody>\n",
       "</table>\n",
       "</div>"
      ],
      "text/plain": [
       "                 0\n",
       "count  8736.000000\n",
       "mean      2.142634\n",
       "std      53.792640\n",
       "min    -118.565346\n",
       "25%     -37.406748\n",
       "50%      -8.330532\n",
       "75%      34.518551\n",
       "max     177.945014"
      ]
     },
     "execution_count": 264,
     "metadata": {},
     "output_type": "execute_result"
    }
   ],
   "source": [
    "residuals_24.describe()"
   ]
  },
  {
   "cell_type": "code",
   "execution_count": 268,
   "metadata": {},
   "outputs": [
    {
     "data": {
      "text/plain": [
       "0    53.863055\n",
       "dtype: float64"
      ]
     },
     "execution_count": 268,
     "metadata": {},
     "output_type": "execute_result"
    }
   ],
   "source": [
    "np.sqrt(np.sum(residuals_24**2)/8726)"
   ]
  },
  {
   "cell_type": "markdown",
   "metadata": {},
   "source": [
    "## The linear regression model works pretty bad in multi-step forecasting.  We will try other models as well."
   ]
  },
  {
   "cell_type": "code",
   "execution_count": 305,
   "metadata": {},
   "outputs": [
    {
     "data": {
      "text/plain": [
       "Pipeline(memory=None,\n",
       "         steps=[('scaler', MinMaxScaler(copy=True, feature_range=(0, 1))),\n",
       "                ('Linear',\n",
       "                 RandomForestRegressor(bootstrap=True, criterion='mse',\n",
       "                                       max_depth=None, max_features='auto',\n",
       "                                       max_leaf_nodes=None,\n",
       "                                       min_impurity_decrease=0.0,\n",
       "                                       min_impurity_split=None,\n",
       "                                       min_samples_leaf=1, min_samples_split=2,\n",
       "                                       min_weight_fraction_leaf=0.0,\n",
       "                                       n_estimators=10, n_jobs=None,\n",
       "                                       oob_score=False, random_state=None,\n",
       "                                       verbose=0, warm_start=False))],\n",
       "         verbose=False)"
      ]
     },
     "execution_count": 305,
     "metadata": {},
     "output_type": "execute_result"
    }
   ],
   "source": [
    "# first load the data\n",
    "\n",
    "# split into train and test sets\n",
    "X = dataframe.values.copy()\n",
    "n_test = int(365*24*1)\n",
    "train, test = X[:-n_test], X[-n_test:] \n",
    "\n",
    "X_train, y_train = train[:,:1], train[:,1:] \n",
    "X_test, y_test = test[:,:1], test[:,1:]\n",
    "\n",
    "### Linear Regression ###\n",
    "# Create the model pipeline\n",
    "steps = [('scaler', MinMaxScaler(feature_range=(0, 1))),\n",
    "         ('Linear', RandomForestRegressor())]\n",
    "\n",
    "model = Pipeline(steps)\n",
    "\n",
    "# Fit to the training set\n",
    "model.fit(X_train, y_train)\n",
    "\n"
   ]
  },
  {
   "cell_type": "code",
   "execution_count": 109,
   "metadata": {},
   "outputs": [],
   "source": [
    "def multistep_model2(n_seq, test, model):\n",
    "    #n_seq= 24   # number of steps we want to predict ahead\n",
    "    actual = []\n",
    "    #rmse_tests = []\n",
    "    yhat_total = []\n",
    "\n",
    "    test = pd.DataFrame(test,columns = ['t-1','t'])\n",
    "    \n",
    "    for t, _ in test.iterrows():\n",
    "        # copy test to test_local which will change every time\n",
    "        test_local = test.copy()\n",
    "        \n",
    "        # ensure we have enough data for this instance\n",
    "        if t+n_seq < test_local.shape[0]:\n",
    "        # predicting n_seq = 24 steps ahead, so true demand is demand at t+24\n",
    "            actual.append(test_local.at[t+n_seq, \"t\"])\n",
    "    \n",
    "            predictions = []      \n",
    "            for step in range(1,n_seq+1): \n",
    "                # define the input test data, the first test value is from the true dataset.\n",
    "                X_test_m = test_local.at[t+step-1,\"t-1\"].reshape(1,-1)\n",
    "\n",
    "                # make prediction of test input data \n",
    "                predict_next= model.predict(X_test_m)\n",
    "            \n",
    "                # update the next test data with the predicted value\n",
    "                test_local.at[t+step, \"t-1\"] =  predict_next\n",
    "        \n",
    "                # add to the predictions list for this n_seq \n",
    "                predictions.append(predict_next)\n",
    "            \n",
    "            # the last prediction for step 24 is what we are after\n",
    "            yhat = predictions[n_seq-1]\n",
    "        \n",
    "            # add to the yhat_total list. This is all we have predicted for the next 24 steps.\n",
    "            yhat_total.append(yhat) \n",
    "        \n",
    "    # convert list of 2d arrays to 1d list\n",
    "    yhat_total =oneDArray(yhat_total)\n",
    "    \n",
    "    rmse_test = np.sqrt(mean_squared_error(actual, yhat_total))\n",
    "    print('Test: RMSE: t+%d: %f' %(n_seq,rmse_test))\n",
    "    return actual, yhat_total, rmse_test"
   ]
  },
  {
   "cell_type": "markdown",
   "metadata": {},
   "source": [
    "## use differenced data as input "
   ]
  },
  {
   "cell_type": "code",
   "execution_count": 115,
   "metadata": {},
   "outputs": [
    {
     "data": {
      "text/plain": [
       "Pipeline(memory=None,\n",
       "         steps=[('scaler', MinMaxScaler(copy=True, feature_range=(0, 1))),\n",
       "                ('Linear',\n",
       "                 RandomForestRegressor(bootstrap=True, criterion='mse',\n",
       "                                       max_depth=None, max_features='auto',\n",
       "                                       max_leaf_nodes=None,\n",
       "                                       min_impurity_decrease=0.0,\n",
       "                                       min_impurity_split=None,\n",
       "                                       min_samples_leaf=1, min_samples_split=2,\n",
       "                                       min_weight_fraction_leaf=0.0,\n",
       "                                       n_estimators=10, n_jobs=None,\n",
       "                                       oob_score=False, random_state=None,\n",
       "                                       verbose=0, warm_start=False))],\n",
       "         verbose=False)"
      ]
     },
     "execution_count": 115,
     "metadata": {},
     "output_type": "execute_result"
    }
   ],
   "source": [
    "X = dataframe.diff(24).dropna().copy()\n",
    "\n",
    "n_test = int(365*24*1)\n",
    "train, test = X[:-n_test], X[-n_test:] \n",
    "\n",
    "X_train, y_train = train.iloc[:,:1], train.iloc[:,1:] \n",
    "X_test, y_test = test.iloc[:,:1], test.iloc[:,1:]\n",
    "\n",
    "### Linear Regression ###\n",
    "# Create the model pipeline\n",
    "steps = [('scaler', MinMaxScaler(feature_range=(0, 1))),\n",
    "         ('Linear', RandomForestRegressor())]\n",
    "\n",
    "model = Pipeline(steps)\n",
    "\n",
    "# Fit to the training set\n",
    "model.fit(X_train, y_train)"
   ]
  },
  {
   "cell_type": "code",
   "execution_count": 117,
   "metadata": {},
   "outputs": [],
   "source": [
    "def multistep_model_diff(n_seq, test, model):\n",
    "    #n_seq= 24   # number of steps we want to predict ahead\n",
    "    actual = []\n",
    "    #rmse_tests = []\n",
    "    yhat_total = []\n",
    "\n",
    "  #  test = pd.DataFrame(test,columns = ['t-1','t'])\n",
    "    # reset the index\n",
    "    test = test.reset_index(drop=True)\n",
    "\n",
    "    for t, _ in test.iterrows():\n",
    "        # copy test to test_local which will change every time\n",
    "        test_local = test.copy()\n",
    "        \n",
    "        # ensure we have enough data for this instance\n",
    "        if t+n_seq < test_local.shape[0]:\n",
    "        # predicting n_seq = 24 steps ahead, so true demand is demand at t+24\n",
    "            actual.append(test_local.at[t+n_seq, \"t\"])\n",
    "    \n",
    "            predictions = []      \n",
    "            for step in range(1,n_seq+1): \n",
    "                # define the input test data, the first test value is from the true dataset.\n",
    "                X_test_m = test_local.at[t+step-1,\"t-1\"].reshape(1,-1)\n",
    "\n",
    "                # make prediction of test input data \n",
    "                predict_next= model.predict(X_test_m)\n",
    "            \n",
    "                # update the next test data with the predicted value\n",
    "                test_local.at[t+step, \"t-1\"] =  predict_next\n",
    "        \n",
    "                # add to the predictions list for this n_seq \n",
    "                predictions.append(predict_next)\n",
    "            \n",
    "            # the last prediction for step 24 is what we are after\n",
    "            yhat = predictions[n_seq-1]\n",
    "        \n",
    "            # add to the yhat_total list. This is all we have predicted for the next 24 steps.\n",
    "            yhat_total.append(yhat) \n",
    "        \n",
    "    # convert list of 2d arrays to 1d list\n",
    "    yhat_total =oneDArray(yhat_total)\n",
    "    \n",
    "    rmse_test = np.sqrt(mean_squared_error(actual, yhat_total))\n",
    "    print('Test: RMSE: t+%d: %f' %(n_seq,rmse_test))\n",
    "    return actual, yhat_total, rmse_test"
   ]
  },
  {
   "cell_type": "code",
   "execution_count": 118,
   "metadata": {},
   "outputs": [
    {
     "name": "stdout",
     "output_type": "stream",
     "text": [
      "Test: RMSE: t+24: 45.238693\n"
     ]
    }
   ],
   "source": [
    "actual24, yhat_total24, rmse_24 = multistep_model_diff(24, test, model)"
   ]
  },
  {
   "cell_type": "code",
   "execution_count": 119,
   "metadata": {},
   "outputs": [
    {
     "data": {
      "text/plain": [
       "Pipeline(memory=None,\n",
       "         steps=[('scaler', MinMaxScaler(copy=True, feature_range=(0, 1))),\n",
       "                ('randomforest',\n",
       "                 RandomForestRegressor(bootstrap=True, criterion='mse',\n",
       "                                       max_depth=None, max_features='auto',\n",
       "                                       max_leaf_nodes=None,\n",
       "                                       min_impurity_decrease=0.0,\n",
       "                                       min_impurity_split=None,\n",
       "                                       min_samples_leaf=1, min_samples_split=2,\n",
       "                                       min_weight_fraction_leaf=0.0,\n",
       "                                       n_estimators=200, n_jobs=-1,\n",
       "                                       oob_score=False, random_state=1,\n",
       "                                       verbose=0, warm_start=False))],\n",
       "         verbose=False)"
      ]
     },
     "execution_count": 119,
     "metadata": {},
     "output_type": "execute_result"
    }
   ],
   "source": [
    "### Random Forest Regressor ###\n",
    "# Create the model pipeline\n",
    "steps = [('scaler', MinMaxScaler(feature_range=(0, 1))),\n",
    "         ('randomforest', RandomForestRegressor(n_estimators = 200, n_jobs = -1,random_state =1))]\n",
    "\n",
    "model_rf24 = Pipeline(steps)\n",
    "\n",
    "# Fit to the training set\n",
    "model_rf24.fit(X_train, y_train)\n"
   ]
  },
  {
   "cell_type": "code",
   "execution_count": null,
   "metadata": {},
   "outputs": [],
   "source": [
    "_, _, rmse_rf24 = multistep_model_diff(24, test, model_rf24)"
   ]
  },
  {
   "cell_type": "code",
   "execution_count": 88,
   "metadata": {},
   "outputs": [
    {
     "name": "stdout",
     "output_type": "stream",
     "text": [
      "Test: RMSE: t+1: 17.834483\n",
      "Test: RMSE: t+2: 22.749222\n",
      "Test: RMSE: t+3: 26.439994\n",
      "Test: RMSE: t+4: 29.245664\n",
      "Test: RMSE: t+5: 31.425054\n",
      "Test: RMSE: t+6: 33.253891\n",
      "Test: RMSE: t+7: 34.698035\n",
      "Test: RMSE: t+8: 35.817929\n",
      "Test: RMSE: t+9: 36.757266\n",
      "Test: RMSE: t+10: 37.632473\n",
      "Test: RMSE: t+11: 38.481734\n",
      "Test: RMSE: t+12: 39.314629\n",
      "Test: RMSE: t+13: 40.117140\n",
      "Test: RMSE: t+14: 40.803281\n",
      "Test: RMSE: t+15: 41.444856\n",
      "Test: RMSE: t+16: 42.002971\n",
      "Test: RMSE: t+17: 42.574555\n",
      "Test: RMSE: t+18: 43.133952\n",
      "Test: RMSE: t+19: 43.719344\n",
      "Test: RMSE: t+20: 44.408311\n",
      "Test: RMSE: t+21: 45.151260\n",
      "Test: RMSE: t+22: 45.923120\n",
      "Test: RMSE: t+23: 46.679901\n",
      "Test: RMSE: t+24: 46.790449\n"
     ]
    }
   ],
   "source": [
    "rmse_test =[]\n",
    "for n_seq in range(1,25):\n",
    "    act, yhat, rmse =  multistep_model_diff(n_seq, test, model)\n",
    "    rmse_test.append(rmse)"
   ]
  },
  {
   "cell_type": "code",
   "execution_count": 89,
   "metadata": {},
   "outputs": [
    {
     "data": {
      "image/png": "[encoded data removed]",
      "text/plain": [
       "<Figure size 792x648 with 1 Axes>"
      ]
     },
     "metadata": {
      "needs_background": "light"
     },
     "output_type": "display_data"
    }
   ],
   "source": [
    "hours = list(range(1,25)) \n",
    "plt.plot(hours, rmse_test,  marker='o',label='Recursive Linear Regression')\n",
    "#plt.plot(hours, rmse_nf_m,  marker='^', label= 'Baseline')\n",
    "plt.title(\"RMSE for 24 steps forecast\")\n",
    "plt.xlabel(\"hour\")\n",
    "plt.ylabel(\"RMSE value\")\n",
    "plt.legend()\n",
    "plt.show()"
   ]
  },
  {
   "cell_type": "code",
   "execution_count": 81,
   "metadata": {},
   "outputs": [
    {
     "name": "stdout",
     "output_type": "stream",
     "text": [
      "Test: RMSE: t+24: 46.790449\n"
     ]
    }
   ],
   "source": [
    "actual24, yhat_total24, rmse_24 = multistep_model_diff(24, test, model)"
   ]
  },
  {
   "cell_type": "markdown",
   "metadata": {},
   "source": [
    "### Test: RMSE: t+2: 22.749222\n",
    "Test: RMSE: t+10: 37.632473"
   ]
  },
  {
   "cell_type": "code",
   "execution_count": null,
   "metadata": {},
   "outputs": [],
   "source": [
    "inverted = list()\n",
    "for i in range(len(forecasts)):\n",
    "    # create array from forecast\n",
    "    forecast = array(forecasts[i])\n",
    "    forecast = forecast.reshape(1, len(forecast))\n",
    "    # invert differencing\n",
    "    index = len(X) - n_test + i - 1\n",
    "    last_ob = series.values[index]\n",
    "    inv_diff = inverse_difference(last_ob, inv_scale)"
   ]
  },
  {
   "cell_type": "code",
   "execution_count": 75,
   "metadata": {},
   "outputs": [
    {
     "data": {
      "text/plain": [
       "[29.0, 36.0, 34.0, 32.0, 24.0]"
      ]
     },
     "execution_count": 75,
     "metadata": {},
     "output_type": "execute_result"
    }
   ],
   "source": [
    "actual[:5]"
   ]
  },
  {
   "cell_type": "code",
   "execution_count": 76,
   "metadata": {},
   "outputs": [
    {
     "data": {
      "text/plain": [
       "[31.00122514881077,\n",
       " 24.792952080436223,\n",
       " 26.237689612256894,\n",
       " 26.237689612256894,\n",
       " 31.57471006199257]"
      ]
     },
     "execution_count": 76,
     "metadata": {},
     "output_type": "execute_result"
    }
   ],
   "source": [
    "yhat_total[:5]"
   ]
  },
  {
   "cell_type": "code",
   "execution_count": null,
   "metadata": {},
   "outputs": [],
   "source": [
    "rcParams['figure.figsize'] = 11, 9   # Dynamic rc settings\n",
    "plt.plot(actual2[8:],label='actual')  # to ensure each steps start at the same point.\n",
    "plt.plot(yhat_total2[8:], color='red',label='2 steps prediction')\n",
    "plt.plot(yhat_total10, color='green',label='10 steps prediction')\n",
    "plt.xlabel('records')\n",
    "plt.ylabel('MegaWatthour')\n",
    "plt.title('Tallahassee hourly electricity demand')\n",
    "plt.legend()\n",
    "plt.show()"
   ]
  },
  {
   "cell_type": "code",
   "execution_count": null,
   "metadata": {},
   "outputs": [],
   "source": [
    "# create a differenced series\n",
    "def difference(dataset, interval=1):\n",
    "\tdiff = list()\n",
    "\tfor i in range(interval, len(dataset)):\n",
    "\t\tvalue = dataset[i] - dataset[i - interval]\n",
    "\t\tdiff.append(value)\n",
    "\treturn Series(diff)\n",
    " "
   ]
  },
  {
   "cell_type": "code",
   "execution_count": 73,
   "metadata": {},
   "outputs": [
    {
     "data": {
      "text/plain": [
       "[31.00122514881077,\n",
       " 24.792952080436223,\n",
       " 26.237689612256894,\n",
       " 26.237689612256894,\n",
       " 31.57471006199257,\n",
       " 31.00122514881077,\n",
       " 26.835532967061283,\n",
       " 21.661887351324935,\n",
       " 25.011475578569232,\n",
       " 25.011475578569232,\n",
       " 25.011475578569232,\n",
       " 25.139017878455725,\n",
       " 25.139017878455725,\n",
       " 25.011475578569232,\n",
       " 20.746423071131343,\n",
       " 20.746423071131343,\n",
       " 16.541431515056267,\n",
       " 14.984248933973168,\n",
       " 14.167252565330426,\n",
       " 14.984248933973168,\n",
       " 14.167252565330426,\n",
       " 12.091138940747346,\n",
       " 8.557567660695753,\n",
       " 10.271122062352173,\n",
       " 6.945067146271164,\n",
       " 5.158806629700453,\n",
       " 5.158806629700453,\n",
       " 6.183125799355795,\n",
       " 6.945067146271164,\n",
       " 10.877447120078227,\n",
       " 8.557567660695753,\n",
       " 6.945067146271164,\n",
       " -9.222186869242362,\n",
       " -18.060061930751978,\n",
       " -12.939403166271395,\n",
       " -9.029076638877935,\n",
       " -9.029076638877935,\n",
       " -9.029076638877935,\n",
       " -9.029076638877935,\n",
       " -9.029076638877935,\n",
       " -6.336033257132354,\n",
       " -4.862856096074539,\n",
       " -4.862856096074539,\n",
       " 1.725392369278083,\n",
       " 2.8157184171610745,\n",
       " 1.725392369278083,\n",
       " 2.8157184171610745,\n",
       " 1.6012171961976018,\n",
       " -1.631781914867269,\n",
       " -4.862856096074539,\n",
       " -9.029076638877935,\n",
       " -11.941141476420846,\n",
       " -17.072479593928943,\n",
       " -23.304485722655706,\n",
       " -34.47358551623383,\n",
       " -35.800199416523924,\n",
       " -34.47358551623383,\n",
       " -34.47358551623383,\n",
       " -40.35829814410033,\n",
       " -49.113065291881384,\n",
       " -49.57112623520908,\n",
       " -36.582557044608336,\n",
       " -34.47358551623383,\n",
       " -31.10535916695894,\n",
       " -34.47358551623383,\n",
       " -34.47358551623383,\n",
       " -35.69024121384719,\n",
       " -34.47358551623383,\n",
       " -34.47358551623383,\n",
       " -25.201014647800168,\n",
       " -25.201014647800168,\n",
       " -23.52019292961725,\n",
       " -23.304485722655706,\n",
       " -19.155982162416702,\n",
       " -17.072479593928943,\n",
       " -15.934730220300347,\n",
       " -12.154588786636731,\n",
       " -9.029076638877935,\n",
       " -4.862856096074539,\n",
       " 5.158806629700453,\n",
       " 12.852968643722269,\n",
       " 12.852968643722269,\n",
       " 12.852968643722269,\n",
       " 8.557567660695753,\n",
       " -1.2502597480162037,\n",
       " -13.897692994488406,\n",
       " -21.298562249821252,\n",
       " -25.201014647800168,\n",
       " -21.298562249821252,\n",
       " -25.201014647800168,\n",
       " -21.298562249821252,\n",
       " -18.060061930751978,\n",
       " -13.897692994488406,\n",
       " -7.6863242027634655,\n",
       " -1.2502597480162037,\n",
       " 2.8157184171610745,\n",
       " 6.945067146271164,\n",
       " 6.945067146271164,\n",
       " 1.725392369278083,\n",
       " -6.336033257132354,\n",
       " -27.30880991623535,\n",
       " -36.582557044608336,\n",
       " -31.10535916695894,\n",
       " -12.154588786636731,\n",
       " -1.631781914867269,\n",
       " 8.557567660695753,\n",
       " 12.091138940747346,\n",
       " 6.945067146271164,\n",
       " 8.557567660695753,\n",
       " 6.945067146271164,\n",
       " 1.6012171961976018,\n",
       " 1.725392369278083,\n",
       " -11.941141476420846,\n",
       " -15.934730220300347,\n",
       " -12.154588786636731,\n",
       " -9.029076638877935,\n",
       " -6.336033257132354,\n",
       " -4.862856096074539,\n",
       " -6.336033257132354,\n",
       " -9.029076638877935,\n",
       " -11.941141476420846,\n",
       " -15.3466652617934,\n",
       " -18.060061930751978,\n",
       " -23.304485722655706,\n",
       " -31.10535916695894,\n",
       " -35.69024121384719,\n",
       " -35.800199416523924,\n",
       " -50.74037382990048,\n",
       " -69.51768945039743,\n",
       " -97.04142857142857,\n",
       " -131.1042857142857,\n",
       " -144.81,\n",
       " -110.14806027306028,\n",
       " -112.18861111111111,\n",
       " -107.96424242424243,\n",
       " -115.14928444104916,\n",
       " -83.13431818181819,\n",
       " -72.54869504957408,\n",
       " -75.5395714872175,\n",
       " -75.26991411192009,\n",
       " -75.26991411192009,\n",
       " -66.06514956343322,\n",
       " -60.85396862245899,\n",
       " -55.48128096365233,\n",
       " -49.57112623520908,\n",
       " -34.47358551623383,\n",
       " -23.304485722655706,\n",
       " -7.6863242027634655,\n",
       " 20.746423071131343,\n",
       " 38.98841978647083,\n",
       " 31.00122514881077,\n",
       " 20.746423071131343,\n",
       " 13.661566866992368,\n",
       " 10.877447120078227,\n",
       " 6.183125799355795,\n",
       " 6.945067146271164,\n",
       " 6.945067146271164,\n",
       " 2.8157184171610745,\n",
       " -1.2502597480162037,\n",
       " -1.631781914867269,\n",
       " 6.183125799355795,\n",
       " 14.167252565330426,\n",
       " 13.661566866992368,\n",
       " 13.661566866992368,\n",
       " 12.091138940747346,\n",
       " 12.091138940747346,\n",
       " 10.877447120078227,\n",
       " 12.852968643722269,\n",
       " 10.877447120078227,\n",
       " 10.877447120078227,\n",
       " 10.877447120078227,\n",
       " 10.271122062352173,\n",
       " 12.091138940747346,\n",
       " 13.661566866992368,\n",
       " 14.984248933973168,\n",
       " 13.661566866992368,\n",
       " 12.852968643722269,\n",
       " 12.852968643722269,\n",
       " 10.271122062352173,\n",
       " 2.8157184171610745,\n",
       " -1.631781914867269,\n",
       " -4.862856096074539,\n",
       " -1.631781914867269,\n",
       " 1.6012171961976018,\n",
       " 1.725392369278083,\n",
       " 5.158806629700453,\n",
       " 16.104747042514425,\n",
       " 21.661887351324935,\n",
       " 25.011475578569232,\n",
       " 10.877447120078227,\n",
       " 10.877447120078227,\n",
       " 14.167252565330426,\n",
       " 6.183125799355795,\n",
       " 2.8157184171610745,\n",
       " 1.725392369278083,\n",
       " 1.725392369278083,\n",
       " 1.6012171961976018,\n",
       " -1.631781914867269,\n",
       " -4.862856096074539,\n",
       " 1.6012171961976018,\n",
       " 2.8157184171610745,\n",
       " 10.877447120078227,\n",
       " 16.541431515056267,\n",
       " 26.237689612256894,\n",
       " 43.50964925085784,\n",
       " 56.49925540530869,\n",
       " 48.23991261559068,\n",
       " 45.7071547832535,\n",
       " 37.566135960912206,\n",
       " 26.237689612256894,\n",
       " 14.167252565330426,\n",
       " 1.725392369278083,\n",
       " 6.945067146271164,\n",
       " 12.091138940747346,\n",
       " 2.8157184171610745,\n",
       " -4.862856096074539,\n",
       " -4.862856096074539,\n",
       " -7.6863242027634655,\n",
       " -7.6863242027634655,\n",
       " -7.6863242027634655,\n",
       " -7.6863242027634655,\n",
       " 1.725392369278083,\n",
       " 1.725392369278083,\n",
       " -6.336033257132354,\n",
       " 1.725392369278083,\n",
       " -6.336033257132354,\n",
       " -6.336033257132354,\n",
       " -12.154588786636731,\n",
       " -34.47358551623383,\n",
       " -50.74037382990048,\n",
       " -40.35829814410033,\n",
       " -39.45975117492211,\n",
       " -35.69024121384719,\n",
       " -34.47358551623383,\n",
       " -23.52019292961725,\n",
       " -1.631781914867269,\n",
       " -12.154588786636731,\n",
       " 2.8157184171610745,\n",
       " -1.631781914867269,\n",
       " 5.158806629700453,\n",
       " 10.877447120078227,\n",
       " 13.661566866992368,\n",
       " 13.661566866992368,\n",
       " 14.984248933973168,\n",
       " 16.104747042514425,\n",
       " 13.661566866992368,\n",
       " 31.57471006199257,\n",
       " 31.00122514881077,\n",
       " 33.94713343210715,\n",
       " 45.7071547832535,\n",
       " 45.7071547832535,\n",
       " 59.7114624819843,\n",
       " 62.40559497479801,\n",
       " 63.6698070566606,\n",
       " 64.4217353341134,\n",
       " 64.59430103830644,\n",
       " 31.57471006199257,\n",
       " 25.011475578569232,\n",
       " -1.2502597480162037,\n",
       " -12.154588786636731,\n",
       " -11.941141476420846,\n",
       " -12.154588786636731,\n",
       " 2.8157184171610745,\n",
       " -4.862856096074539,\n",
       " -7.6863242027634655,\n",
       " -12.154588786636731,\n",
       " -15.934730220300347,\n",
       " -25.201014647800168,\n",
       " -49.113065291881384,\n",
       " -60.85396862245899,\n",
       " -67.69238283158926,\n",
       " -53.75574860994482,\n",
       " -67.69238283158926,\n",
       " -79.71266556901466,\n",
       " -102.3077564102564,\n",
       " -131.1042857142857,\n",
       " -109.05563492063493,\n",
       " -130.78333333333333,\n",
       " -131.1042857142857,\n",
       " -131.1042857142857,\n",
       " -67.69238283158926,\n",
       " -57.753771669625415,\n",
       " -39.42149092940684,\n",
       " -39.45975117492211,\n",
       " -31.10535916695894,\n",
       " -25.201014647800168,\n",
       " -23.52019292961725,\n",
       " -19.155982162416702,\n",
       " -11.941141476420846,\n",
       " -4.862856096074539,\n",
       " -1.631781914867269,\n",
       " -1.631781914867269,\n",
       " -1.631781914867269,\n",
       " -1.631781914867269,\n",
       " -1.631781914867269,\n",
       " -6.336033257132354,\n",
       " -1.631781914867269,\n",
       " 1.6012171961976018,\n",
       " 5.158806629700453,\n",
       " 8.557567660695753,\n",
       " 10.877447120078227,\n",
       " 13.661566866992368,\n",
       " 16.541431515056267,\n",
       " 25.011475578569232,\n",
       " 25.011475578569232,\n",
       " 26.237689612256894,\n",
       " 25.011475578569232,\n",
       " 21.661887351324935,\n",
       " 16.104747042514425,\n",
       " 10.271122062352173,\n",
       " 6.183125799355795,\n",
       " 2.8157184171610745,\n",
       " 1.6012171961976018,\n",
       " 1.725392369278083,\n",
       " 2.8157184171610745,\n",
       " 14.167252565330426,\n",
       " 33.94713343210715,\n",
       " 48.23991261559068,\n",
       " 33.94713343210715,\n",
       " 26.835532967061283,\n",
       " 32.15996239833109,\n",
       " 45.7071547832535,\n",
       " 45.613308844054814,\n",
       " 59.7114624819843,\n",
       " 56.49925540530869,\n",
       " 63.972741770991775,\n",
       " 63.972741770991775,\n",
       " 62.40559497479801,\n",
       " 58.05857172118088,\n",
       " 62.40559497479801,\n",
       " 33.94713343210715,\n",
       " 31.57471006199257,\n",
       " 24.792952080436223,\n",
       " 20.746423071131343,\n",
       " 6.945067146271164,\n",
       " 5.158806629700453,\n",
       " 2.8157184171610745,\n",
       " 1.725392369278083,\n",
       " 1.6012171961976018,\n",
       " -1.631781914867269,\n",
       " -1.631781914867269,\n",
       " 16.104747042514425,\n",
       " 16.104747042514425,\n",
       " 13.661566866992368,\n",
       " -9.029076638877935,\n",
       " -12.939403166271395,\n",
       " -18.060061930751978,\n",
       " -23.304485722655706,\n",
       " -23.52019292961725,\n",
       " -12.939403166271395,\n",
       " -18.060061930751978,\n",
       " -18.060061930751978,\n",
       " -25.201014647800168,\n",
       " -34.47358551623383,\n",
       " -12.154588786636731,\n",
       " -11.941141476420846,\n",
       " -9.222186869242362,\n",
       " -6.336033257132354,\n",
       " 6.945067146271164,\n",
       " 1.725392369278083,\n",
       " 1.6012171961976018,\n",
       " 1.725392369278083,\n",
       " 1.725392369278083,\n",
       " 2.8157184171610745,\n",
       " 6.945067146271164,\n",
       " 13.661566866992368,\n",
       " -7.6863242027634655,\n",
       " 1.725392369278083,\n",
       " 32.15996239833109,\n",
       " 25.011475578569232,\n",
       " 33.94713343210715,\n",
       " 43.74993264000062,\n",
       " 33.94713343210715,\n",
       " 31.00122514881077,\n",
       " 31.57471006199257,\n",
       " 24.792952080436223,\n",
       " 25.011475578569232,\n",
       " 10.271122062352173,\n",
       " 6.183125799355795,\n",
       " 10.271122062352173,\n",
       " 12.852968643722269,\n",
       " 14.167252565330426,\n",
       " 6.183125799355795,\n",
       " 12.091138940747346,\n",
       " 12.091138940747346,\n",
       " 12.091138940747346,\n",
       " 10.877447120078227,\n",
       " 10.271122062352173,\n",
       " 5.158806629700453,\n",
       " 13.661566866992368,\n",
       " 12.091138940747346,\n",
       " 8.557567660695753,\n",
       " -1.631781914867269,\n",
       " 5.158806629700453,\n",
       " -1.631781914867269,\n",
       " 12.852968643722269,\n",
       " -1.631781914867269,\n",
       " -13.897692994488406,\n",
       " -19.155982162416702,\n",
       " -19.155982162416702,\n",
       " -4.862856096074539,\n",
       " 5.158806629700453,\n",
       " 12.091138940747346,\n",
       " 6.945067146271164,\n",
       " 8.557567660695753,\n",
       " 8.557567660695753,\n",
       " 12.091138940747346,\n",
       " 2.8157184171610745,\n",
       " 6.945067146271164,\n",
       " 5.158806629700453,\n",
       " 2.8157184171610745,\n",
       " 5.158806629700453,\n",
       " 10.877447120078227,\n",
       " -4.862856096074539,\n",
       " 20.746423071131343,\n",
       " 48.23991261559068,\n",
       " 14.984248933973168,\n",
       " -4.862856096074539,\n",
       " -15.934730220300347,\n",
       " -48.68264788188276,\n",
       " -34.47358551623383,\n",
       " -17.072479593928943,\n",
       " -49.113065291881384,\n",
       " -40.35829814410033,\n",
       " -49.113065291881384,\n",
       " -50.74037382990048,\n",
       " -50.74037382990048,\n",
       " -44.28057083035186,\n",
       " -36.582557044608336,\n",
       " -34.47358551623383,\n",
       " -25.201014647800168,\n",
       " -13.897692994488406,\n",
       " -18.060061930751978,\n",
       " -17.072479593928943,\n",
       " -18.060061930751978,\n",
       " -23.52019292961725,\n",
       " -47.2147311482232,\n",
       " -74.97836716314936,\n",
       " -58.2738018692037,\n",
       " -79.71266556901466,\n",
       " -60.82411498367886,\n",
       " -49.57112623520908,\n",
       " -49.57112623520908,\n",
       " -49.113065291881384,\n",
       " -47.2147311482232,\n",
       " -62.02347945255227,\n",
       " -35.69024121384719,\n",
       " -34.47358551623383,\n",
       " -35.69024121384719,\n",
       " -19.155982162416702,\n",
       " -17.072479593928943,\n",
       " -17.072479593928943,\n",
       " -12.939403166271395,\n",
       " -11.941141476420846,\n",
       " 6.945067146271164,\n",
       " 6.183125799355795,\n",
       " 5.158806629700453,\n",
       " 6.183125799355795,\n",
       " 5.158806629700453,\n",
       " 1.725392369278083,\n",
       " -6.336033257132354,\n",
       " -9.222186869242362,\n",
       " -11.941141476420846,\n",
       " -11.941141476420846,\n",
       " -6.336033257132354,\n",
       " 1.6012171961976018,\n",
       " 5.158806629700453,\n",
       " 8.557567660695753,\n",
       " 10.877447120078227,\n",
       " 10.877447120078227,\n",
       " 8.557567660695753,\n",
       " 12.091138940747346,\n",
       " 25.011475578569232,\n",
       " 25.011475578569232,\n",
       " 25.011475578569232,\n",
       " 25.011475578569232,\n",
       " 21.661887351324935,\n",
       " 20.746423071131343,\n",
       " -12.154588786636731,\n",
       " -11.941141476420846,\n",
       " -1.631781914867269,\n",
       " -1.2502597480162037,\n",
       " 5.158806629700453,\n",
       " 16.104747042514425,\n",
       " 43.74993264000062,\n",
       " 48.23991261559068,\n",
       " 43.74993264000062,\n",
       " 43.50964925085784,\n",
       " 37.58717764094729,\n",
       " 38.98841978647083,\n",
       " 45.7071547832535,\n",
       " 50.024861741807584,\n",
       " 51.20719603158027,\n",
       " 62.40559497479801,\n",
       " 62.40559497479801,\n",
       " 63.6698070566606,\n",
       " 63.6698070566606,\n",
       " 56.49925540530869,\n",
       " 45.613308844054814,\n",
       " 33.94713343210715,\n",
       " 31.00122514881077,\n",
       " 25.011475578569232,\n",
       " 31.00122514881077,\n",
       " 31.57471006199257,\n",
       " 31.00122514881077,\n",
       " 24.792952080436223,\n",
       " 28.167175532439522,\n",
       " 31.00122514881077,\n",
       " 37.566135960912206,\n",
       " 43.74993264000062,\n",
       " 45.7071547832535,\n",
       " 43.74993264000062,\n",
       " 50.024861741807584,\n",
       " 63.6698070566606,\n",
       " 63.6698070566606,\n",
       " 50.024861741807584,\n",
       " 43.50964925085784,\n",
       " 31.57471006199257,\n",
       " 25.139017878455725,\n",
       " 21.661887351324935,\n",
       " -9.029076638877935,\n",
       " -12.939403166271395,\n",
       " -1.631781914867269,\n",
       " 6.945067146271164,\n",
       " 10.271122062352173,\n",
       " 12.852968643722269,\n",
       " 16.104747042514425,\n",
       " 6.183125799355795,\n",
       " -1.631781914867269,\n",
       " -1.631781914867269,\n",
       " -1.631781914867269,\n",
       " -4.862856096074539,\n",
       " -6.336033257132354,\n",
       " -1.2502597480162037,\n",
       " 10.877447120078227,\n",
       " 8.557567660695753,\n",
       " 5.158806629700453,\n",
       " -12.939403166271395,\n",
       " -15.934730220300347,\n",
       " -6.336033257132354,\n",
       " 20.746423071131343,\n",
       " 6.183125799355795,\n",
       " -4.862856096074539,\n",
       " 1.725392369278083,\n",
       " 37.58717764094729,\n",
       " 31.00122514881077,\n",
       " 13.661566866992368,\n",
       " 13.661566866992368,\n",
       " 16.541431515056267,\n",
       " -1.2502597480162037,\n",
       " -4.862856096074539,\n",
       " 2.8157184171610745,\n",
       " -7.6863242027634655,\n",
       " -11.941141476420846,\n",
       " -13.897692994488406,\n",
       " -19.155982162416702,\n",
       " -25.201014647800168,\n",
       " -35.69024121384719,\n",
       " -47.2147311482232,\n",
       " -36.582557044608336,\n",
       " -35.69024121384719,\n",
       " -25.201014647800168,\n",
       " -39.45975117492211,\n",
       " -36.582557044608336,\n",
       " -36.582557044608336,\n",
       " -7.6863242027634655,\n",
       " 1.725392369278083,\n",
       " -9.029076638877935,\n",
       " -25.201014647800168,\n",
       " -31.10535916695894,\n",
       " -19.155982162416702,\n",
       " -15.3466652617934,\n",
       " -31.10535916695894,\n",
       " -23.52019292961725,\n",
       " -13.897692994488406,\n",
       " -6.336033257132354,\n",
       " -1.631781914867269,\n",
       " -4.862856096074539,\n",
       " -1.631781914867269,\n",
       " 1.725392369278083,\n",
       " 6.183125799355795,\n",
       " 10.877447120078227,\n",
       " 20.746423071131343,\n",
       " 12.852968643722269,\n",
       " 12.091138940747346,\n",
       " 14.167252565330426,\n",
       " 32.15996239833109,\n",
       " 32.15996239833109,\n",
       " 25.011475578569232,\n",
       " 5.158806629700453,\n",
       " 5.158806629700453,\n",
       " -1.631781914867269,\n",
       " -9.029076638877935,\n",
       " -11.941141476420846,\n",
       " -4.862856096074539,\n",
       " -7.6863242027634655,\n",
       " 2.8157184171610745,\n",
       " 2.8157184171610745,\n",
       " -1.2502597480162037,\n",
       " -12.939403166271395,\n",
       " -7.6863242027634655,\n",
       " -4.862856096074539,\n",
       " -11.941141476420846,\n",
       " -23.304485722655706,\n",
       " -50.74037382990048,\n",
       " -75.26991411192009,\n",
       " -75.5395714872175,\n",
       " -57.86301165299129,\n",
       " -72.54869504957408,\n",
       " -77.32943017766547,\n",
       " -102.50107142857144,\n",
       " -94.4999648635678,\n",
       " -131.1042857142857,\n",
       " -88.85601291553304,\n",
       " -83.13431818181819,\n",
       " -78.93295892262846,\n",
       " -75.26991411192009,\n",
       " -72.34273621694618,\n",
       " -60.82411498367886,\n",
       " -57.753771669625415,\n",
       " -55.48128096365233,\n",
       " -34.47358551623383,\n",
       " -23.304485722655706,\n",
       " -12.939403166271395,\n",
       " -4.862856096074539,\n",
       " 1.725392369278083,\n",
       " 6.945067146271164,\n",
       " 12.852968643722269,\n",
       " 13.661566866992368,\n",
       " 14.984248933973168,\n",
       " 16.104747042514425,\n",
       " 10.877447120078227,\n",
       " 2.8157184171610745,\n",
       " -1.631781914867269,\n",
       " -1.631781914867269,\n",
       " -1.631781914867269,\n",
       " 1.6012171961976018,\n",
       " 2.8157184171610745,\n",
       " 6.945067146271164,\n",
       " 13.661566866992368,\n",
       " 10.877447120078227,\n",
       " 10.271122062352173,\n",
       " 6.945067146271164,\n",
       " 1.725392369278083,\n",
       " -1.2502597480162037,\n",
       " -4.862856096074539,\n",
       " -7.6863242027634655,\n",
       " -9.029076638877935,\n",
       " -9.222186869242362,\n",
       " -11.941141476420846,\n",
       " -9.222186869242362,\n",
       " -9.029076638877935,\n",
       " -1.631781914867269,\n",
       " 1.6012171961976018,\n",
       " -1.2502597480162037,\n",
       " 6.183125799355795,\n",
       " 13.661566866992368,\n",
       " 21.661887351324935,\n",
       " 26.237689612256894,\n",
       " 28.167175532439522,\n",
       " 24.792952080436223,\n",
       " 26.237689612256894,\n",
       " 31.00122514881077,\n",
       " 32.15996239833109,\n",
       " 43.50964925085784,\n",
       " 43.74993264000062,\n",
       " 45.7071547832535,\n",
       " 43.74993264000062,\n",
       " 37.566135960912206,\n",
       " 32.15996239833109,\n",
       " 25.139017878455725,\n",
       " 20.746423071131343,\n",
       " 16.104747042514425,\n",
       " 14.167252565330426,\n",
       " 14.984248933973168,\n",
       " 21.661887351324935,\n",
       " 33.94713343210715,\n",
       " 45.7071547832535,\n",
       " 37.58717764094729,\n",
       " 31.57471006199257,\n",
       " 31.57471006199257,\n",
       " 33.94713343210715,\n",
       " 33.94713343210715,\n",
       " 33.94713343210715,\n",
       " 28.167175532439522,\n",
       " 20.746423071131343,\n",
       " 6.945067146271164,\n",
       " -11.941141476420846,\n",
       " -18.060061930751978,\n",
       " -19.155982162416702,\n",
       " -23.304485722655706,\n",
       " -25.201014647800168,\n",
       " -25.201014647800168,\n",
       " -27.30880991623535,\n",
       " -21.298562249821252,\n",
       " -18.060061930751978,\n",
       " -15.934730220300347,\n",
       " -12.939403166271395,\n",
       " -12.939403166271395,\n",
       " -11.941141476420846,\n",
       " -12.154588786636731,\n",
       " -13.897692994488406,\n",
       " -18.060061930751978,\n",
       " -21.298562249821252,\n",
       " -27.30880991623535,\n",
       " -39.45975117492211,\n",
       " -39.42149092940684,\n",
       " -39.42149092940684,\n",
       " -34.47358551623383,\n",
       " -25.201014647800168,\n",
       " -15.3466652617934,\n",
       " 1.6012171961976018,\n",
       " 1.725392369278083,\n",
       " 2.8157184171610745,\n",
       " 2.8157184171610745,\n",
       " 5.158806629700453,\n",
       " 2.8157184171610745,\n",
       " 2.8157184171610745,\n",
       " 2.8157184171610745,\n",
       " 5.158806629700453,\n",
       " 6.183125799355795,\n",
       " 6.183125799355795,\n",
       " 6.945067146271164,\n",
       " 6.945067146271164,\n",
       " 12.852968643722269,\n",
       " 14.984248933973168,\n",
       " 16.104747042514425,\n",
       " 14.167252565330426,\n",
       " 16.104747042514425,\n",
       " 16.104747042514425,\n",
       " 16.104747042514425,\n",
       " 14.167252565330426,\n",
       " 16.104747042514425,\n",
       " 21.661887351324935,\n",
       " 28.167175532439522,\n",
       " 33.94713343210715,\n",
       " 48.23991261559068,\n",
       " 53.38935514128258,\n",
       " 63.6698070566606,\n",
       " 63.6698070566606,\n",
       " 82.21007034632035,\n",
       " 81.47755209101184,\n",
       " 89.17512626262626,\n",
       " 106.98730158730159,\n",
       " 93.01765384125676,\n",
       " 122.69166666666665,\n",
       " 118.05952380952381,\n",
       " 106.63333333333335,\n",
       " 148.9766666666667,\n",
       " 106.63333333333335,\n",
       " 121.3847619047619,\n",
       " 64.59430103830644,\n",
       " 63.6698070566606,\n",
       " 43.74993264000062,\n",
       " 28.167175532439522,\n",
       " 13.661566866992368,\n",
       " 1.725392369278083,\n",
       " -9.222186869242362,\n",
       " -19.155982162416702,\n",
       " -31.10535916695894,\n",
       " -31.10535916695894,\n",
       " -35.800199416523924,\n",
       " -36.582557044608336,\n",
       " -39.45975117492211,\n",
       " -35.69024121384719,\n",
       " -31.10535916695894,\n",
       " -31.10535916695894,\n",
       " -31.10535916695894,\n",
       " -34.47358551623383,\n",
       " -34.47358551623383,\n",
       " -39.42149092940684,\n",
       " -55.48128096365233,\n",
       " -73.54728897856901,\n",
       " -78.93295892262846,\n",
       " -74.97836716314936,\n",
       " -62.02347945255227,\n",
       " -60.85396862245899,\n",
       " -55.48128096365233,\n",
       " -49.57112623520908,\n",
       " -39.42149092940684,\n",
       " -39.45975117492211,\n",
       " -35.800199416523924,\n",
       " -36.582557044608336,\n",
       " -39.42149092940684,\n",
       " -49.57112623520908,\n",
       " -49.57112623520908,\n",
       " -49.57112623520908,\n",
       " -49.57112623520908,\n",
       " -48.68264788188276,\n",
       " -44.28057083035186,\n",
       " -40.35829814410033,\n",
       " -40.35829814410033,\n",
       " -39.42149092940684,\n",
       " -39.42149092940684,\n",
       " -36.582557044608336,\n",
       " -39.42149092940684,\n",
       " -44.28057083035186,\n",
       " -48.68264788188276,\n",
       " -36.582557044608336,\n",
       " -34.47358551623383,\n",
       " -31.10535916695894,\n",
       " -21.298562249821252,\n",
       " -12.154588786636731,\n",
       " -7.6863242027634655,\n",
       " 1.725392369278083,\n",
       " 2.8157184171610745,\n",
       " 6.945067146271164,\n",
       " 8.557567660695753,\n",
       " 6.945067146271164,\n",
       " 2.8157184171610745,\n",
       " -1.631781914867269,\n",
       " -7.6863242027634655,\n",
       " -11.941141476420846,\n",
       " -15.934730220300347,\n",
       " -18.060061930751978,\n",
       " -21.298562249821252,\n",
       " -23.304485722655706,\n",
       " -23.304485722655706,\n",
       " -19.155982162416702,\n",
       " -11.941141476420846,\n",
       " 10.271122062352173,\n",
       " 20.746423071131343,\n",
       " 13.661566866992368,\n",
       " 10.877447120078227,\n",
       " 13.661566866992368,\n",
       " 16.541431515056267,\n",
       " 20.746423071131343,\n",
       " 21.661887351324935,\n",
       " 16.104747042514425,\n",
       " 16.541431515056267,\n",
       " 13.661566866992368,\n",
       " 10.877447120078227,\n",
       " 10.271122062352173,\n",
       " 10.877447120078227,\n",
       " 6.945067146271164,\n",
       " 5.158806629700453,\n",
       " 1.725392369278083,\n",
       " -1.2502597480162037,\n",
       " -4.862856096074539,\n",
       " -7.6863242027634655,\n",
       " -9.222186869242362,\n",
       " -12.154588786636731,\n",
       " -17.072479593928943,\n",
       " -23.304485722655706,\n",
       " -31.10535916695894,\n",
       " -31.10535916695894,\n",
       " -25.201014647800168,\n",
       " -13.897692994488406,\n",
       " -6.336033257132354,\n",
       " -4.862856096074539,\n",
       " -4.862856096074539,\n",
       " -1.631781914867269,\n",
       " 1.6012171961976018,\n",
       " 1.6012171961976018,\n",
       " -1.631781914867269,\n",
       " -6.336033257132354,\n",
       " -7.6863242027634655,\n",
       " -9.029076638877935,\n",
       " -7.6863242027634655,\n",
       " -6.336033257132354,\n",
       " -6.336033257132354,\n",
       " -4.862856096074539,\n",
       " -4.862856096074539,\n",
       " -1.2502597480162037,\n",
       " 1.725392369278083,\n",
       " 6.183125799355795,\n",
       " 10.877447120078227,\n",
       " 13.661566866992368,\n",
       " 14.984248933973168,\n",
       " 16.541431515056267,\n",
       " 25.011475578569232,\n",
       " 16.541431515056267,\n",
       " 10.877447120078227,\n",
       " 6.183125799355795,\n",
       " 1.6012171961976018,\n",
       " -6.336033257132354,\n",
       " -9.029076638877935,\n",
       " -9.222186869242362,\n",
       " -7.6863242027634655,\n",
       " -1.2502597480162037,\n",
       " -1.631781914867269,\n",
       " 1.6012171961976018,\n",
       " 6.945067146271164,\n",
       " 14.167252565330426,\n",
       " 21.661887351324935,\n",
       " 25.139017878455725,\n",
       " 31.00122514881077,\n",
       " 32.15996239833109,\n",
       " 33.94713343210715,\n",
       " 32.15996239833109,\n",
       " 31.57471006199257,\n",
       " 25.011475578569232,\n",
       " 10.271122062352173,\n",
       " -4.862856096074539,\n",
       " -4.862856096074539,\n",
       " -4.862856096074539,\n",
       " -1.2502597480162037,\n",
       " 1.725392369278083,\n",
       " -1.631781914867269,\n",
       " -11.941141476420846,\n",
       " -19.155982162416702,\n",
       " -27.30880991623535,\n",
       " -34.47358551623383,\n",
       " -39.45975117492211,\n",
       " -39.45975117492211,\n",
       " -35.69024121384719,\n",
       " -34.47358551623383,\n",
       " -33.42498814718094,\n",
       " -25.201014647800168,\n",
       " -23.304485722655706,\n",
       " -19.155982162416702,\n",
       " -19.155982162416702,\n",
       " -21.298562249821252,\n",
       " -23.304485722655706,\n",
       " -21.298562249821252,\n",
       " -19.155982162416702,\n",
       " -23.52019292961725,\n",
       " -33.42498814718094,\n",
       " -34.47358551623383,\n",
       " -34.47358551623383,\n",
       " -35.69024121384719,\n",
       " -35.69024121384719,\n",
       " -27.30880991623535,\n",
       " -17.072479593928943,\n",
       " -4.862856096074539,\n",
       " 2.8157184171610745,\n",
       " 12.091138940747346,\n",
       " 20.746423071131343,\n",
       " 20.746423071131343,\n",
       " 14.984248933973168,\n",
       " 10.271122062352173,\n",
       " 5.158806629700453,\n",
       " 1.725392369278083,\n",
       " -4.862856096074539,\n",
       " -9.222186869242362,\n",
       " -12.939403166271395,\n",
       " -17.072479593928943,\n",
       " -19.155982162416702,\n",
       " -25.201014647800168,\n",
       " -33.42498814718094,\n",
       " -34.47358551623383,\n",
       " -31.10535916695894,\n",
       " -19.155982162416702,\n",
       " -11.941141476420846,\n",
       " -1.631781914867269,\n",
       " 5.158806629700453,\n",
       " 5.158806629700453,\n",
       " 6.183125799355795,\n",
       " 2.8157184171610745,\n",
       " 1.725392369278083,\n",
       " 1.725392369278083,\n",
       " 2.8157184171610745,\n",
       " 2.8157184171610745,\n",
       " 2.8157184171610745,\n",
       " 1.6012171961976018,\n",
       " -1.631781914867269,\n",
       " -4.862856096074539,\n",
       " -4.862856096074539,\n",
       " -1.631781914867269,\n",
       " -1.2502597480162037,\n",
       " 1.725392369278083,\n",
       " 2.8157184171610745,\n",
       " 2.8157184171610745,\n",
       " 2.8157184171610745,\n",
       " 5.158806629700453,\n",
       " 2.8157184171610745,\n",
       " 5.158806629700453,\n",
       " 2.8157184171610745,\n",
       " 5.158806629700453,\n",
       " 2.8157184171610745,\n",
       " 12.091138940747346,\n",
       " 13.661566866992368,\n",
       " 12.091138940747346,\n",
       " 12.091138940747346,\n",
       " 12.091138940747346,\n",
       " 14.167252565330426,\n",
       " 21.661887351324935,\n",
       " 21.661887351324935,\n",
       " 21.661887351324935,\n",
       " 20.746423071131343,\n",
       " 13.661566866992368,\n",
       " 10.271122062352173,\n",
       " 6.183125799355795,\n",
       " 2.8157184171610745,\n",
       " 1.6012171961976018,\n",
       " 1.6012171961976018,\n",
       " 2.8157184171610745,\n",
       " 12.091138940747346,\n",
       " 31.57471006199257,\n",
       " 45.7071547832535,\n",
       " 31.00122514881077,\n",
       " 25.011475578569232,\n",
       " 21.661887351324935,\n",
       " 16.541431515056267,\n",
       " 14.984248933973168,\n",
       " 16.104747042514425,\n",
       " 21.661887351324935,\n",
       " 25.011475578569232,\n",
       " 24.792952080436223,\n",
       " 31.57471006199257,\n",
       " ...]"
      ]
     },
     "execution_count": 73,
     "metadata": {},
     "output_type": "execute_result"
    }
   ],
   "source": [
    "# invert differenced forecast\n",
    "def inverse_difference(last_ob, forecast):\n",
    "\t# invert first forecast\n",
    "\tinverted = list()\n",
    "\tinverted.append(forecast[0] + last_ob)\n",
    "\t# propagate difference forecast using inverted first value\n",
    "\tfor i in range(1, len(forecast)):\n",
    "\t\tinverted.append(forecast[i] + inverted[i-1])\n",
    "\treturn inverted"
   ]
  },
  {
   "cell_type": "code",
   "execution_count": null,
   "metadata": {},
   "outputs": [],
   "source": []
  },
  {
   "cell_type": "code",
   "execution_count": null,
   "metadata": {},
   "outputs": [],
   "source": []
  },
  {
   "cell_type": "code",
   "execution_count": null,
   "metadata": {},
   "outputs": [],
   "source": []
  },
  {
   "cell_type": "code",
   "execution_count": null,
   "metadata": {},
   "outputs": [],
   "source": []
  }
 ],
 "metadata": {
  "kernelspec": {
   "display_name": "Python 3",
   "language": "python",
   "name": "python3"
  },
  "language_info": {
   "codemirror_mode": {
    "name": "ipython",
    "version": 3
   },
   "file_extension": ".py",
   "mimetype": "text/x-python",
   "name": "python",
   "nbconvert_exporter": "python",
   "pygments_lexer": "ipython3",
   "version": "3.6.8"
  }
 },
 "nbformat": 4,
 "nbformat_minor": 2
}
